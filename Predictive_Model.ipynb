{
 "cells": [
  {
   "cell_type": "markdown",
   "id": "9e87445e",
   "metadata": {},
   "source": [
    "# Q3\n",
    "Predict the likelihood of delay for the list of shipments in “New_bookings.csv” dataset."
   ]
  },
  {
   "cell_type": "markdown",
   "id": "32ccd791",
   "metadata": {},
   "source": [
    "# 1. Library Import"
   ]
  },
  {
   "cell_type": "code",
   "execution_count": 1,
   "id": "99f1580e",
   "metadata": {},
   "outputs": [],
   "source": [
    "import numpy as np\n",
    "import pandas as pd \n",
    "import matplotlib.pyplot as plt\n",
    "import seaborn as sns\n",
    "import requests\n",
    "import matplotlib.pyplot as plt\n",
    "import helper\n",
    "\n",
    "from sklearn.model_selection import train_test_split\n",
    "\n",
    "from sklearn.preprocessing import OneHotEncoder\n",
    "from sklearn.linear_model import LogisticRegression\n",
    "from sklearn.ensemble import RandomForestClassifier\n",
    "from sklearn.svm import SVC\n",
    "from sklearn.metrics import accuracy_score\n",
    "from sklearn.impute import SimpleImputer\n",
    "from sklearn.compose import ColumnTransformer\n",
    "from sklearn.pipeline import Pipeline\n",
    "\n",
    "from sklearn.metrics import confusion_matrix, roc_auc_score, roc_curve, classification_report, log_loss\n",
    "\n",
    "\n",
    "from datetime import datetime\n",
    "from datetime import timedelta"
   ]
  },
  {
   "cell_type": "markdown",
   "id": "9d0992e5",
   "metadata": {},
   "source": [
    "# 2. Data Loading"
   ]
  },
  {
   "cell_type": "code",
   "execution_count": 2,
   "id": "0e0404c4",
   "metadata": {},
   "outputs": [
    {
     "name": "stdout",
     "output_type": "stream",
     "text": [
      "(3245, 15) (1000, 15) (641662, 4)\n"
     ]
    }
   ],
   "source": [
    "df_GPS = pd.read_csv('Data/GPS_data.csv')\n",
    "df_bookings = pd.read_csv('Data/Shipment_bookings.csv')\n",
    "df_new_bookings = pd.read_csv('Data/New_bookings.csv')\n",
    "print(df_bookings.shape, df_new_bookings.shape, df_GPS.shape)"
   ]
  },
  {
   "cell_type": "code",
   "execution_count": 3,
   "id": "01c58e62",
   "metadata": {},
   "outputs": [],
   "source": [
    "df = pd.read_csv('Data/bookings_processed.csv')"
   ]
  },
  {
   "cell_type": "markdown",
   "id": "6021553e",
   "metadata": {},
   "source": [
    "# 3. Predictive Model\n",
    "Predict the likelihood of delay for the list of shipments"
   ]
  },
  {
   "cell_type": "code",
   "execution_count": 4,
   "id": "68e1dfd8",
   "metadata": {},
   "outputs": [],
   "source": [
    "df_train = df.copy()"
   ]
  },
  {
   "cell_type": "markdown",
   "id": "ad8e8dfc",
   "metadata": {},
   "source": [
    "## 3.1 Data Processing"
   ]
  },
  {
   "cell_type": "code",
   "execution_count": 5,
   "id": "2431247e",
   "metadata": {},
   "outputs": [],
   "source": [
    "# convert time strings to date_time\n",
    "\n",
    "# convert to datetime format \n",
    "date_cols = ['FIRST_COLLECTION_SCHEDULE_EARLIEST', \n",
    "             'FIRST_COLLECTION_SCHEDULE_LATEST', \n",
    "             'LAST_DELIVERY_SCHEDULE_EARLIEST',\n",
    "            'LAST_DELIVERY_SCHEDULE_LATEST']\n",
    "\n",
    "for data in [df_new_bookings, df_train]:\n",
    "    for i in date_cols:\n",
    "        data[i]=pd.to_datetime(data[i])"
   ]
  },
  {
   "cell_type": "code",
   "execution_count": 6,
   "id": "0386edfa",
   "metadata": {},
   "outputs": [
    {
     "data": {
      "text/plain": [
       "array(['FIRST_COLLECTION_LATITUDE', 'FIRST_COLLECTION_LONGITUDE',\n",
       "       'FIRST_COLLECTION_POST_CODE', 'LAST_DELIVERY_LATITUDE',\n",
       "       'LAST_DELIVERY_LONGITUDE', 'LAST_DELIVERY_POST_CODE',\n",
       "       'VEHICLE_BUILD_UP', 'VEHICLE_SIZE'], dtype=object)"
      ]
     },
     "execution_count": 6,
     "metadata": {},
     "output_type": "execute_result"
    }
   ],
   "source": [
    "# define predictors\n",
    "not_predictors = ['SHIPMENT_NUMBER',\n",
    "                  'Unnamed: 0', \n",
    "                  'PROJECT_ID', \n",
    "                  'CARRIER_DISPLAY_ID',\n",
    "                  'RECORD_TIMESTAMP',\n",
    "                  'LAT', \n",
    "                  'LON', \n",
    "                  'POSTCODE',\n",
    "                  'almost_on_time',\n",
    "                  'on_time',\n",
    "                  'GPS_coord',\n",
    "                  'last_delivery_coord',\n",
    "                  'FIRST_COLLECTION_SCHEDULE_EARLIEST',\n",
    "                  'FIRST_COLLECTION_SCHEDULE_LATEST',\n",
    "                  'LAST_DELIVERY_SCHEDULE_EARLIEST',\n",
    "                  'LAST_DELIVERY_SCHEDULE_LATEST',\n",
    "                  'almost_reached_delivery_loc',\n",
    "                  'reached_delivery_loc'\n",
    "                 ]\n",
    "predictors = np.setdiff1d(df_train.columns, not_predictors)\n",
    "predictors"
   ]
  },
  {
   "cell_type": "markdown",
   "id": "64a02468",
   "metadata": {},
   "source": [
    "## 3.2 EDA"
   ]
  },
  {
   "cell_type": "code",
   "execution_count": 7,
   "id": "60106d71",
   "metadata": {},
   "outputs": [
    {
     "data": {
      "text/plain": [
       "VEHICLE_SIZE\n",
       "Tractor Unit    806\n",
       "3.5T Van        161\n",
       "3.5 T Van        17\n",
       "18T Rigid         7\n",
       "7.5T Rigid        5\n",
       "7.5 T             4\n",
       "Name: count, dtype: int64"
      ]
     },
     "execution_count": 7,
     "metadata": {},
     "output_type": "execute_result"
    }
   ],
   "source": [
    "df_new_bookings['VEHICLE_SIZE'].value_counts()"
   ]
  },
  {
   "cell_type": "code",
   "execution_count": 8,
   "id": "f7f42bfb",
   "metadata": {},
   "outputs": [
    {
     "data": {
      "text/plain": [
       "VEHICLE_BUILD_UP\n",
       "Curtain-Side 13.6M Trailer    667\n",
       "Box                           140\n",
       "LWB Van                        83\n",
       "Box 44ft                       52\n",
       "Temperature-Controlled         29\n",
       "Tractor Only 6x2                9\n",
       "Curtain Side                    9\n",
       "Mega / High Cube Trailer        6\n",
       "High Security                   3\n",
       "Luton Tail Lift                 2\n",
       "Name: count, dtype: int64"
      ]
     },
     "execution_count": 8,
     "metadata": {},
     "output_type": "execute_result"
    }
   ],
   "source": [
    "df_new_bookings['VEHICLE_BUILD_UP'].value_counts()"
   ]
  },
  {
   "cell_type": "code",
   "execution_count": 9,
   "id": "94f13c9d",
   "metadata": {},
   "outputs": [],
   "source": [
    "df_test = df_new_bookings.copy()"
   ]
  },
  {
   "cell_type": "markdown",
   "id": "3715c549",
   "metadata": {},
   "source": [
    "## 3.3 Feature Engineering"
   ]
  },
  {
   "cell_type": "code",
   "execution_count": 10,
   "id": "4d142e27",
   "metadata": {},
   "outputs": [],
   "source": [
    "# calculate the difference between collection & delivery lats & lons\n",
    "\n",
    "datasets = [df_train, df_test]\n",
    "\n",
    "\n",
    "for data in datasets:\n",
    "    \n",
    "    # calculate durations between collection & delivery\n",
    "    d1 = data['FIRST_COLLECTION_SCHEDULE_EARLIEST'] \n",
    "    d2 = data['LAST_DELIVERY_SCHEDULE_EARLIEST']\n",
    "    d3 = data['FIRST_COLLECTION_SCHEDULE_LATEST']\n",
    "    d4 = data['LAST_DELIVERY_SCHEDULE_LATEST']\n",
    "    # calculate durations between collection & delivery\n",
    "    d1 = data['FIRST_COLLECTION_SCHEDULE_EARLIEST'] \n",
    "    d2 = data['LAST_DELIVERY_SCHEDULE_EARLIEST']\n",
    "    d3 = data['FIRST_COLLECTION_SCHEDULE_LATEST']\n",
    "    d4 = data['LAST_DELIVERY_SCHEDULE_LATEST']\n",
    "\n",
    "    data['duration1']=(d2-d1).dt.total_seconds()\n",
    "    data['duration2']=(d4-d3).dt.total_seconds()\n",
    "    data['duration_longest']=(d4-d1).dt.total_seconds()\n",
    "\n",
    "    data['collection_window'] = (data['FIRST_COLLECTION_SCHEDULE_LATEST'] - data['FIRST_COLLECTION_SCHEDULE_EARLIEST']).dt.total_seconds()\n",
    "    data['delivery_window'] = (data['LAST_DELIVERY_SCHEDULE_LATEST'] - data['LAST_DELIVERY_SCHEDULE_EARLIEST']).dt.total_seconds()\n",
    "    \n",
    "    data['lat_diff']=abs(data['LAST_DELIVERY_LATITUDE'] - data['FIRST_COLLECTION_LATITUDE']) # latitude difference\n",
    "    data['lon_diff'] = abs(data['LAST_DELIVERY_LONGITUDE'] - data['FIRST_COLLECTION_LONGITUDE']) # longitude difference"
   ]
  },
  {
   "cell_type": "code",
   "execution_count": 11,
   "id": "d023702a",
   "metadata": {},
   "outputs": [
    {
     "data": {
      "text/plain": [
       "['FIRST_COLLECTION_LATITUDE',\n",
       " 'FIRST_COLLECTION_LONGITUDE',\n",
       " 'FIRST_COLLECTION_POST_CODE',\n",
       " 'LAST_DELIVERY_LATITUDE',\n",
       " 'LAST_DELIVERY_LONGITUDE',\n",
       " 'LAST_DELIVERY_POST_CODE',\n",
       " 'VEHICLE_BUILD_UP',\n",
       " 'VEHICLE_SIZE',\n",
       " 'lat_diff',\n",
       " 'lon_diff',\n",
       " 'duration1',\n",
       " 'duration2',\n",
       " 'duration_longest']"
      ]
     },
     "execution_count": 11,
     "metadata": {},
     "output_type": "execute_result"
    }
   ],
   "source": [
    "# add to list of predictors\n",
    "predictors=list(predictors)\n",
    "predictors.extend(['lat_diff', 'lon_diff', 'duration1', 'duration2', 'duration_longest'])\n",
    "predictors"
   ]
  },
  {
   "cell_type": "markdown",
   "id": "f956107c",
   "metadata": {},
   "source": [
    "## 3.4 Prepare Data for Modelling"
   ]
  },
  {
   "cell_type": "code",
   "execution_count": 12,
   "id": "b75b8de5",
   "metadata": {},
   "outputs": [],
   "source": [
    "df = df_train.copy()"
   ]
  },
  {
   "cell_type": "code",
   "execution_count": 13,
   "id": "a6942ad5",
   "metadata": {},
   "outputs": [],
   "source": [
    "for i in ['FIRST_COLLECTION_POST_CODE', 'LAST_DELIVERY_POST_CODE']:\n",
    "    df[i] = df[i].astype(str)"
   ]
  },
  {
   "cell_type": "code",
   "execution_count": 14,
   "id": "5f87ee82",
   "metadata": {},
   "outputs": [],
   "source": [
    "# splitting the dataset into  independent variable X and dependent(target) y\n",
    "X = df[predictors]\n",
    "y = df['almost_on_time']"
   ]
  },
  {
   "cell_type": "code",
   "execution_count": 15,
   "id": "8651437a",
   "metadata": {},
   "outputs": [],
   "source": [
    "X_train, X_test, y_train, y_test = train_test_split(X, y, test_size = 0.2, random_state = 0)"
   ]
  },
  {
   "cell_type": "code",
   "execution_count": 17,
   "id": "deac031c",
   "metadata": {},
   "outputs": [],
   "source": [
    "# separate categorical & numerical features\n",
    "\n",
    "num_feats = ['FIRST_COLLECTION_LATITUDE',\n",
    " 'FIRST_COLLECTION_LONGITUDE',\n",
    " 'LAST_DELIVERY_LATITUDE',\n",
    " 'LAST_DELIVERY_LONGITUDE',\n",
    " 'duration1',\n",
    " 'duration2',\n",
    " 'duration_longest',\n",
    " 'lat_diff',\n",
    " 'lon_diff'\n",
    "            ]\n",
    "\n",
    "cat_feats = ['FIRST_COLLECTION_POST_CODE', 'LAST_DELIVERY_POST_CODE', 'VEHICLE_BUILD_UP', 'VEHICLE_SIZE']"
   ]
  },
  {
   "cell_type": "code",
   "execution_count": 18,
   "id": "79e71873",
   "metadata": {},
   "outputs": [
    {
     "name": "stdout",
     "output_type": "stream",
     "text": [
      "<class 'pandas.core.frame.DataFrame'>\n",
      "RangeIndex: 3241 entries, 0 to 3240\n",
      "Data columns (total 9 columns):\n",
      " #   Column                      Non-Null Count  Dtype  \n",
      "---  ------                      --------------  -----  \n",
      " 0   FIRST_COLLECTION_LATITUDE   3241 non-null   float64\n",
      " 1   FIRST_COLLECTION_LONGITUDE  3241 non-null   float64\n",
      " 2   LAST_DELIVERY_LATITUDE      3241 non-null   float64\n",
      " 3   LAST_DELIVERY_LONGITUDE     3241 non-null   float64\n",
      " 4   duration1                   3241 non-null   float64\n",
      " 5   duration2                   3241 non-null   float64\n",
      " 6   duration_longest            3241 non-null   float64\n",
      " 7   lat_diff                    3241 non-null   float64\n",
      " 8   lon_diff                    3241 non-null   float64\n",
      "dtypes: float64(9)\n",
      "memory usage: 228.0 KB\n"
     ]
    }
   ],
   "source": [
    "df[num_feats].info()"
   ]
  },
  {
   "cell_type": "code",
   "execution_count": 19,
   "id": "ddd9c339",
   "metadata": {},
   "outputs": [
    {
     "data": {
      "text/html": [
       "<div>\n",
       "<style scoped>\n",
       "    .dataframe tbody tr th:only-of-type {\n",
       "        vertical-align: middle;\n",
       "    }\n",
       "\n",
       "    .dataframe tbody tr th {\n",
       "        vertical-align: top;\n",
       "    }\n",
       "\n",
       "    .dataframe thead th {\n",
       "        text-align: right;\n",
       "    }\n",
       "</style>\n",
       "<table border=\"1\" class=\"dataframe\">\n",
       "  <thead>\n",
       "    <tr style=\"text-align: right;\">\n",
       "      <th></th>\n",
       "      <th>FIRST_COLLECTION_LATITUDE</th>\n",
       "      <th>FIRST_COLLECTION_LONGITUDE</th>\n",
       "      <th>LAST_DELIVERY_LATITUDE</th>\n",
       "      <th>LAST_DELIVERY_LONGITUDE</th>\n",
       "      <th>duration1</th>\n",
       "      <th>duration2</th>\n",
       "      <th>duration_longest</th>\n",
       "      <th>lat_diff</th>\n",
       "      <th>lon_diff</th>\n",
       "    </tr>\n",
       "  </thead>\n",
       "  <tbody>\n",
       "    <tr>\n",
       "      <th>0</th>\n",
       "      <td>52.315672</td>\n",
       "      <td>-0.157664</td>\n",
       "      <td>55.877803</td>\n",
       "      <td>-3.648558</td>\n",
       "      <td>259800.0</td>\n",
       "      <td>260700.0</td>\n",
       "      <td>261600.0</td>\n",
       "      <td>3.562131</td>\n",
       "      <td>3.490894</td>\n",
       "    </tr>\n",
       "    <tr>\n",
       "      <th>1</th>\n",
       "      <td>53.764125</td>\n",
       "      <td>-1.740145</td>\n",
       "      <td>51.398851</td>\n",
       "      <td>-1.231993</td>\n",
       "      <td>56400.0</td>\n",
       "      <td>60960.0</td>\n",
       "      <td>66960.0</td>\n",
       "      <td>2.365274</td>\n",
       "      <td>0.508152</td>\n",
       "    </tr>\n",
       "    <tr>\n",
       "      <th>2</th>\n",
       "      <td>53.767302</td>\n",
       "      <td>-1.746560</td>\n",
       "      <td>51.660700</td>\n",
       "      <td>-0.022247</td>\n",
       "      <td>20580.0</td>\n",
       "      <td>27780.0</td>\n",
       "      <td>33780.0</td>\n",
       "      <td>2.106602</td>\n",
       "      <td>1.724313</td>\n",
       "    </tr>\n",
       "    <tr>\n",
       "      <th>3</th>\n",
       "      <td>51.779657</td>\n",
       "      <td>-0.772897</td>\n",
       "      <td>52.888113</td>\n",
       "      <td>-0.634948</td>\n",
       "      <td>23400.0</td>\n",
       "      <td>23400.0</td>\n",
       "      <td>25200.0</td>\n",
       "      <td>1.108456</td>\n",
       "      <td>0.137949</td>\n",
       "    </tr>\n",
       "    <tr>\n",
       "      <th>4</th>\n",
       "      <td>52.334853</td>\n",
       "      <td>-1.180450</td>\n",
       "      <td>55.735089</td>\n",
       "      <td>-4.168719</td>\n",
       "      <td>32400.0</td>\n",
       "      <td>32340.0</td>\n",
       "      <td>35940.0</td>\n",
       "      <td>3.400236</td>\n",
       "      <td>2.988269</td>\n",
       "    </tr>\n",
       "  </tbody>\n",
       "</table>\n",
       "</div>"
      ],
      "text/plain": [
       "   FIRST_COLLECTION_LATITUDE  FIRST_COLLECTION_LONGITUDE  \\\n",
       "0                  52.315672                   -0.157664   \n",
       "1                  53.764125                   -1.740145   \n",
       "2                  53.767302                   -1.746560   \n",
       "3                  51.779657                   -0.772897   \n",
       "4                  52.334853                   -1.180450   \n",
       "\n",
       "   LAST_DELIVERY_LATITUDE  LAST_DELIVERY_LONGITUDE  duration1  duration2  \\\n",
       "0               55.877803                -3.648558   259800.0   260700.0   \n",
       "1               51.398851                -1.231993    56400.0    60960.0   \n",
       "2               51.660700                -0.022247    20580.0    27780.0   \n",
       "3               52.888113                -0.634948    23400.0    23400.0   \n",
       "4               55.735089                -4.168719    32400.0    32340.0   \n",
       "\n",
       "   duration_longest  lat_diff  lon_diff  \n",
       "0          261600.0  3.562131  3.490894  \n",
       "1           66960.0  2.365274  0.508152  \n",
       "2           33780.0  2.106602  1.724313  \n",
       "3           25200.0  1.108456  0.137949  \n",
       "4           35940.0  3.400236  2.988269  "
      ]
     },
     "execution_count": 19,
     "metadata": {},
     "output_type": "execute_result"
    }
   ],
   "source": [
    "df[num_feats].head()"
   ]
  },
  {
   "cell_type": "code",
   "execution_count": 20,
   "id": "5e1fcebb",
   "metadata": {},
   "outputs": [],
   "source": [
    "# define target variable\n",
    "target = 'almost_on_time'"
   ]
  },
  {
   "cell_type": "markdown",
   "id": "001dbbeb",
   "metadata": {},
   "source": [
    "## 3.5 Modelling"
   ]
  },
  {
   "cell_type": "markdown",
   "id": "c6ff4a5a",
   "metadata": {},
   "source": [
    "### 3.5.1 Train & Fit - Logistic Regression"
   ]
  },
  {
   "cell_type": "code",
   "execution_count": 21,
   "id": "209a766d",
   "metadata": {},
   "outputs": [
    {
     "data": {
      "text/html": [
       "<style>#sk-container-id-1 {color: black;}#sk-container-id-1 pre{padding: 0;}#sk-container-id-1 div.sk-toggleable {background-color: white;}#sk-container-id-1 label.sk-toggleable__label {cursor: pointer;display: block;width: 100%;margin-bottom: 0;padding: 0.3em;box-sizing: border-box;text-align: center;}#sk-container-id-1 label.sk-toggleable__label-arrow:before {content: \"▸\";float: left;margin-right: 0.25em;color: #696969;}#sk-container-id-1 label.sk-toggleable__label-arrow:hover:before {color: black;}#sk-container-id-1 div.sk-estimator:hover label.sk-toggleable__label-arrow:before {color: black;}#sk-container-id-1 div.sk-toggleable__content {max-height: 0;max-width: 0;overflow: hidden;text-align: left;background-color: #f0f8ff;}#sk-container-id-1 div.sk-toggleable__content pre {margin: 0.2em;color: black;border-radius: 0.25em;background-color: #f0f8ff;}#sk-container-id-1 input.sk-toggleable__control:checked~div.sk-toggleable__content {max-height: 200px;max-width: 100%;overflow: auto;}#sk-container-id-1 input.sk-toggleable__control:checked~label.sk-toggleable__label-arrow:before {content: \"▾\";}#sk-container-id-1 div.sk-estimator input.sk-toggleable__control:checked~label.sk-toggleable__label {background-color: #d4ebff;}#sk-container-id-1 div.sk-label input.sk-toggleable__control:checked~label.sk-toggleable__label {background-color: #d4ebff;}#sk-container-id-1 input.sk-hidden--visually {border: 0;clip: rect(1px 1px 1px 1px);clip: rect(1px, 1px, 1px, 1px);height: 1px;margin: -1px;overflow: hidden;padding: 0;position: absolute;width: 1px;}#sk-container-id-1 div.sk-estimator {font-family: monospace;background-color: #f0f8ff;border: 1px dotted black;border-radius: 0.25em;box-sizing: border-box;margin-bottom: 0.5em;}#sk-container-id-1 div.sk-estimator:hover {background-color: #d4ebff;}#sk-container-id-1 div.sk-parallel-item::after {content: \"\";width: 100%;border-bottom: 1px solid gray;flex-grow: 1;}#sk-container-id-1 div.sk-label:hover label.sk-toggleable__label {background-color: #d4ebff;}#sk-container-id-1 div.sk-serial::before {content: \"\";position: absolute;border-left: 1px solid gray;box-sizing: border-box;top: 0;bottom: 0;left: 50%;z-index: 0;}#sk-container-id-1 div.sk-serial {display: flex;flex-direction: column;align-items: center;background-color: white;padding-right: 0.2em;padding-left: 0.2em;position: relative;}#sk-container-id-1 div.sk-item {position: relative;z-index: 1;}#sk-container-id-1 div.sk-parallel {display: flex;align-items: stretch;justify-content: center;background-color: white;position: relative;}#sk-container-id-1 div.sk-item::before, #sk-container-id-1 div.sk-parallel-item::before {content: \"\";position: absolute;border-left: 1px solid gray;box-sizing: border-box;top: 0;bottom: 0;left: 50%;z-index: -1;}#sk-container-id-1 div.sk-parallel-item {display: flex;flex-direction: column;z-index: 1;position: relative;background-color: white;}#sk-container-id-1 div.sk-parallel-item:first-child::after {align-self: flex-end;width: 50%;}#sk-container-id-1 div.sk-parallel-item:last-child::after {align-self: flex-start;width: 50%;}#sk-container-id-1 div.sk-parallel-item:only-child::after {width: 0;}#sk-container-id-1 div.sk-dashed-wrapped {border: 1px dashed gray;margin: 0 0.4em 0.5em 0.4em;box-sizing: border-box;padding-bottom: 0.4em;background-color: white;}#sk-container-id-1 div.sk-label label {font-family: monospace;font-weight: bold;display: inline-block;line-height: 1.2em;}#sk-container-id-1 div.sk-label-container {text-align: center;}#sk-container-id-1 div.sk-container {/* jupyter's `normalize.less` sets `[hidden] { display: none; }` but bootstrap.min.css set `[hidden] { display: none !important; }` so we also need the `!important` here to be able to override the default hidden behavior on the sphinx rendered scikit-learn.org. See: https://github.com/scikit-learn/scikit-learn/issues/21755 */display: inline-block !important;position: relative;}#sk-container-id-1 div.sk-text-repr-fallback {display: none;}</style><div id=\"sk-container-id-1\" class=\"sk-top-container\"><div class=\"sk-text-repr-fallback\"><pre>Pipeline(steps=[(&#x27;preprocessor&#x27;,\n",
       "                 ColumnTransformer(transformers=[(&#x27;num&#x27;, &#x27;passthrough&#x27;,\n",
       "                                                  [&#x27;FIRST_COLLECTION_LATITUDE&#x27;,\n",
       "                                                   &#x27;FIRST_COLLECTION_LONGITUDE&#x27;,\n",
       "                                                   &#x27;LAST_DELIVERY_LATITUDE&#x27;,\n",
       "                                                   &#x27;LAST_DELIVERY_LONGITUDE&#x27;,\n",
       "                                                   &#x27;duration1&#x27;, &#x27;duration2&#x27;,\n",
       "                                                   &#x27;duration_longest&#x27;,\n",
       "                                                   &#x27;lat_diff&#x27;, &#x27;lon_diff&#x27;]),\n",
       "                                                 (&#x27;cat&#x27;,\n",
       "                                                  OneHotEncoder(handle_unknown=&#x27;ignore&#x27;),\n",
       "                                                  [&#x27;FIRST_COLLECTION_POST_CODE&#x27;,\n",
       "                                                   &#x27;LAST_DELIVERY_POST_CODE&#x27;,\n",
       "                                                   &#x27;VEHICLE_BUILD_UP&#x27;,\n",
       "                                                   &#x27;VEHICLE_SIZE&#x27;])])),\n",
       "                (&#x27;classifier&#x27;, LogisticRegression())])</pre><b>In a Jupyter environment, please rerun this cell to show the HTML representation or trust the notebook. <br />On GitHub, the HTML representation is unable to render, please try loading this page with nbviewer.org.</b></div><div class=\"sk-container\" hidden><div class=\"sk-item sk-dashed-wrapped\"><div class=\"sk-label-container\"><div class=\"sk-label sk-toggleable\"><input class=\"sk-toggleable__control sk-hidden--visually\" id=\"sk-estimator-id-1\" type=\"checkbox\" ><label for=\"sk-estimator-id-1\" class=\"sk-toggleable__label sk-toggleable__label-arrow\">Pipeline</label><div class=\"sk-toggleable__content\"><pre>Pipeline(steps=[(&#x27;preprocessor&#x27;,\n",
       "                 ColumnTransformer(transformers=[(&#x27;num&#x27;, &#x27;passthrough&#x27;,\n",
       "                                                  [&#x27;FIRST_COLLECTION_LATITUDE&#x27;,\n",
       "                                                   &#x27;FIRST_COLLECTION_LONGITUDE&#x27;,\n",
       "                                                   &#x27;LAST_DELIVERY_LATITUDE&#x27;,\n",
       "                                                   &#x27;LAST_DELIVERY_LONGITUDE&#x27;,\n",
       "                                                   &#x27;duration1&#x27;, &#x27;duration2&#x27;,\n",
       "                                                   &#x27;duration_longest&#x27;,\n",
       "                                                   &#x27;lat_diff&#x27;, &#x27;lon_diff&#x27;]),\n",
       "                                                 (&#x27;cat&#x27;,\n",
       "                                                  OneHotEncoder(handle_unknown=&#x27;ignore&#x27;),\n",
       "                                                  [&#x27;FIRST_COLLECTION_POST_CODE&#x27;,\n",
       "                                                   &#x27;LAST_DELIVERY_POST_CODE&#x27;,\n",
       "                                                   &#x27;VEHICLE_BUILD_UP&#x27;,\n",
       "                                                   &#x27;VEHICLE_SIZE&#x27;])])),\n",
       "                (&#x27;classifier&#x27;, LogisticRegression())])</pre></div></div></div><div class=\"sk-serial\"><div class=\"sk-item sk-dashed-wrapped\"><div class=\"sk-label-container\"><div class=\"sk-label sk-toggleable\"><input class=\"sk-toggleable__control sk-hidden--visually\" id=\"sk-estimator-id-2\" type=\"checkbox\" ><label for=\"sk-estimator-id-2\" class=\"sk-toggleable__label sk-toggleable__label-arrow\">preprocessor: ColumnTransformer</label><div class=\"sk-toggleable__content\"><pre>ColumnTransformer(transformers=[(&#x27;num&#x27;, &#x27;passthrough&#x27;,\n",
       "                                 [&#x27;FIRST_COLLECTION_LATITUDE&#x27;,\n",
       "                                  &#x27;FIRST_COLLECTION_LONGITUDE&#x27;,\n",
       "                                  &#x27;LAST_DELIVERY_LATITUDE&#x27;,\n",
       "                                  &#x27;LAST_DELIVERY_LONGITUDE&#x27;, &#x27;duration1&#x27;,\n",
       "                                  &#x27;duration2&#x27;, &#x27;duration_longest&#x27;, &#x27;lat_diff&#x27;,\n",
       "                                  &#x27;lon_diff&#x27;]),\n",
       "                                (&#x27;cat&#x27;, OneHotEncoder(handle_unknown=&#x27;ignore&#x27;),\n",
       "                                 [&#x27;FIRST_COLLECTION_POST_CODE&#x27;,\n",
       "                                  &#x27;LAST_DELIVERY_POST_CODE&#x27;, &#x27;VEHICLE_BUILD_UP&#x27;,\n",
       "                                  &#x27;VEHICLE_SIZE&#x27;])])</pre></div></div></div><div class=\"sk-parallel\"><div class=\"sk-parallel-item\"><div class=\"sk-item\"><div class=\"sk-label-container\"><div class=\"sk-label sk-toggleable\"><input class=\"sk-toggleable__control sk-hidden--visually\" id=\"sk-estimator-id-3\" type=\"checkbox\" ><label for=\"sk-estimator-id-3\" class=\"sk-toggleable__label sk-toggleable__label-arrow\">num</label><div class=\"sk-toggleable__content\"><pre>[&#x27;FIRST_COLLECTION_LATITUDE&#x27;, &#x27;FIRST_COLLECTION_LONGITUDE&#x27;, &#x27;LAST_DELIVERY_LATITUDE&#x27;, &#x27;LAST_DELIVERY_LONGITUDE&#x27;, &#x27;duration1&#x27;, &#x27;duration2&#x27;, &#x27;duration_longest&#x27;, &#x27;lat_diff&#x27;, &#x27;lon_diff&#x27;]</pre></div></div></div><div class=\"sk-serial\"><div class=\"sk-item\"><div class=\"sk-estimator sk-toggleable\"><input class=\"sk-toggleable__control sk-hidden--visually\" id=\"sk-estimator-id-4\" type=\"checkbox\" ><label for=\"sk-estimator-id-4\" class=\"sk-toggleable__label sk-toggleable__label-arrow\">passthrough</label><div class=\"sk-toggleable__content\"><pre>passthrough</pre></div></div></div></div></div></div><div class=\"sk-parallel-item\"><div class=\"sk-item\"><div class=\"sk-label-container\"><div class=\"sk-label sk-toggleable\"><input class=\"sk-toggleable__control sk-hidden--visually\" id=\"sk-estimator-id-5\" type=\"checkbox\" ><label for=\"sk-estimator-id-5\" class=\"sk-toggleable__label sk-toggleable__label-arrow\">cat</label><div class=\"sk-toggleable__content\"><pre>[&#x27;FIRST_COLLECTION_POST_CODE&#x27;, &#x27;LAST_DELIVERY_POST_CODE&#x27;, &#x27;VEHICLE_BUILD_UP&#x27;, &#x27;VEHICLE_SIZE&#x27;]</pre></div></div></div><div class=\"sk-serial\"><div class=\"sk-item\"><div class=\"sk-estimator sk-toggleable\"><input class=\"sk-toggleable__control sk-hidden--visually\" id=\"sk-estimator-id-6\" type=\"checkbox\" ><label for=\"sk-estimator-id-6\" class=\"sk-toggleable__label sk-toggleable__label-arrow\">OneHotEncoder</label><div class=\"sk-toggleable__content\"><pre>OneHotEncoder(handle_unknown=&#x27;ignore&#x27;)</pre></div></div></div></div></div></div></div></div><div class=\"sk-item\"><div class=\"sk-estimator sk-toggleable\"><input class=\"sk-toggleable__control sk-hidden--visually\" id=\"sk-estimator-id-7\" type=\"checkbox\" ><label for=\"sk-estimator-id-7\" class=\"sk-toggleable__label sk-toggleable__label-arrow\">LogisticRegression</label><div class=\"sk-toggleable__content\"><pre>LogisticRegression()</pre></div></div></div></div></div></div></div>"
      ],
      "text/plain": [
       "Pipeline(steps=[('preprocessor',\n",
       "                 ColumnTransformer(transformers=[('num', 'passthrough',\n",
       "                                                  ['FIRST_COLLECTION_LATITUDE',\n",
       "                                                   'FIRST_COLLECTION_LONGITUDE',\n",
       "                                                   'LAST_DELIVERY_LATITUDE',\n",
       "                                                   'LAST_DELIVERY_LONGITUDE',\n",
       "                                                   'duration1', 'duration2',\n",
       "                                                   'duration_longest',\n",
       "                                                   'lat_diff', 'lon_diff']),\n",
       "                                                 ('cat',\n",
       "                                                  OneHotEncoder(handle_unknown='ignore'),\n",
       "                                                  ['FIRST_COLLECTION_POST_CODE',\n",
       "                                                   'LAST_DELIVERY_POST_CODE',\n",
       "                                                   'VEHICLE_BUILD_UP',\n",
       "                                                   'VEHICLE_SIZE'])])),\n",
       "                ('classifier', LogisticRegression())])"
      ]
     },
     "execution_count": 21,
     "metadata": {},
     "output_type": "execute_result"
    }
   ],
   "source": [
    "# Create the column transformer with one-hot encoding for categorical data\n",
    "preprocessor = ColumnTransformer(\n",
    "    transformers=[\n",
    "        ('num', 'passthrough', num_feats),\n",
    "        ('cat', OneHotEncoder(handle_unknown='ignore'), cat_feats)\n",
    "    ]\n",
    ")\n",
    "\n",
    "# Create the pipeline with preprocessing and logistic regression model\n",
    "pipeline = Pipeline(steps=[\n",
    "    ('preprocessor', preprocessor),\n",
    "    ('classifier', LogisticRegression())\n",
    "])\n",
    "\n",
    "# Split the data into training and testing sets\n",
    "X_train, X_test, y_train, y_test = train_test_split(X, y, test_size=0.2, random_state=42)\n",
    "\n",
    "# Train the model\n",
    "pipeline.fit(X_train, y_train)\n"
   ]
  },
  {
   "cell_type": "markdown",
   "id": "6a7cf039",
   "metadata": {},
   "source": [
    "### 3.5.1 Model Selection - Logistic Regression, Random Forest & SVM"
   ]
  },
  {
   "cell_type": "code",
   "execution_count": 28,
   "id": "bcd91234",
   "metadata": {},
   "outputs": [
    {
     "name": "stderr",
     "output_type": "stream",
     "text": [
      "C:\\Users\\Lenovo IdeaCentre\\anaconda3\\Lib\\site-packages\\sklearn\\metrics\\_classification.py:1469: UndefinedMetricWarning: Precision and F-score are ill-defined and being set to 0.0 in labels with no predicted samples. Use `zero_division` parameter to control this behavior.\n",
      "  _warn_prf(average, modifier, msg_start, len(result))\n",
      "C:\\Users\\Lenovo IdeaCentre\\anaconda3\\Lib\\site-packages\\sklearn\\metrics\\_classification.py:1469: UndefinedMetricWarning: Precision and F-score are ill-defined and being set to 0.0 in labels with no predicted samples. Use `zero_division` parameter to control this behavior.\n",
      "  _warn_prf(average, modifier, msg_start, len(result))\n",
      "C:\\Users\\Lenovo IdeaCentre\\anaconda3\\Lib\\site-packages\\sklearn\\metrics\\_classification.py:1469: UndefinedMetricWarning: Precision and F-score are ill-defined and being set to 0.0 in labels with no predicted samples. Use `zero_division` parameter to control this behavior.\n",
      "  _warn_prf(average, modifier, msg_start, len(result))\n"
     ]
    },
    {
     "name": "stdout",
     "output_type": "stream",
     "text": [
      "Classification Report for Logistic Regression:\n",
      "              precision    recall  f1-score   support\n",
      "\n",
      "     Delayed       0.88      1.00      0.94       570\n",
      "     On-Time       0.00      0.00      0.00        79\n",
      "\n",
      "    accuracy                           0.88       649\n",
      "   macro avg       0.44      0.50      0.47       649\n",
      "weighted avg       0.77      0.88      0.82       649\n",
      "\n",
      "AUC for Logistic Regression: 0.61\n",
      "Classification Report for Random Forest:\n",
      "              precision    recall  f1-score   support\n",
      "\n",
      "     Delayed       0.92      0.94      0.93       570\n",
      "     On-Time       0.45      0.38      0.41        79\n",
      "\n",
      "    accuracy                           0.87       649\n",
      "   macro avg       0.68      0.66      0.67       649\n",
      "weighted avg       0.86      0.87      0.86       649\n",
      "\n",
      "AUC for Random Forest: 0.79\n",
      "Classification Report for Support Vector Machine:\n",
      "              precision    recall  f1-score   support\n",
      "\n",
      "     Delayed       0.88      1.00      0.94       570\n",
      "     On-Time       0.00      0.00      0.00        79\n",
      "\n",
      "    accuracy                           0.88       649\n",
      "   macro avg       0.44      0.50      0.47       649\n",
      "weighted avg       0.77      0.88      0.82       649\n",
      "\n",
      "AUC for Support Vector Machine: 0.62\n"
     ]
    },
    {
     "name": "stderr",
     "output_type": "stream",
     "text": [
      "C:\\Users\\Lenovo IdeaCentre\\anaconda3\\Lib\\site-packages\\sklearn\\metrics\\_classification.py:1469: UndefinedMetricWarning: Precision and F-score are ill-defined and being set to 0.0 in labels with no predicted samples. Use `zero_division` parameter to control this behavior.\n",
      "  _warn_prf(average, modifier, msg_start, len(result))\n",
      "C:\\Users\\Lenovo IdeaCentre\\anaconda3\\Lib\\site-packages\\sklearn\\metrics\\_classification.py:1469: UndefinedMetricWarning: Precision and F-score are ill-defined and being set to 0.0 in labels with no predicted samples. Use `zero_division` parameter to control this behavior.\n",
      "  _warn_prf(average, modifier, msg_start, len(result))\n",
      "C:\\Users\\Lenovo IdeaCentre\\anaconda3\\Lib\\site-packages\\sklearn\\metrics\\_classification.py:1469: UndefinedMetricWarning: Precision and F-score are ill-defined and being set to 0.0 in labels with no predicted samples. Use `zero_division` parameter to control this behavior.\n",
      "  _warn_prf(average, modifier, msg_start, len(result))\n"
     ]
    },
    {
     "data": {
      "image/png": "[encoded data removed]",
      "text/plain": [
       "<Figure size 640x480 with 1 Axes>"
      ]
     },
     "metadata": {},
     "output_type": "display_data"
    }
   ],
   "source": [
    "# Create the column transformer with one-hot encoding for categorical data\n",
    "preprocessor = ColumnTransformer(\n",
    "    transformers=[\n",
    "        ('num', 'passthrough', num_feats),\n",
    "        ('cat', OneHotEncoder(handle_unknown='ignore'), cat_feats)\n",
    "    ]\n",
    ")\n",
    "\n",
    "# Create the pipeline with preprocessing and logistic regression model\n",
    "pipeline = Pipeline(steps=[\n",
    "    ('preprocessor', preprocessor),\n",
    "    ('classifier', LogisticRegression())\n",
    "])\n",
    "\n",
    "# Split the data into training and testing sets\n",
    "X_train, X_test, y_train, y_test = train_test_split(X, y, test_size=0.2, random_state=42)\n",
    "\n",
    "# Create a dictionary of models to compare\n",
    "models = {\n",
    "    'Logistic Regression': LogisticRegression(),\n",
    "    'Random Forest': RandomForestClassifier(),\n",
    "    'Support Vector Machine': SVC(probability=True)  # Enable probability estimates for AUC calculation\n",
    "}\n",
    "\n",
    "best_model = None\n",
    "best_auc = 0\n",
    "\n",
    "# Train the models and evaluate their performance\n",
    "for model_name, model in models.items():\n",
    "    # Create the pipeline with preprocessing and the current model\n",
    "    pipeline = Pipeline(steps=[\n",
    "        ('preprocessor', preprocessor),\n",
    "        ('classifier', model)\n",
    "    ])\n",
    "    \n",
    "    # Train the model\n",
    "    pipeline.fit(X_train, y_train)\n",
    "    \n",
    "    # Predict on the test set\n",
    "    y_pred = pipeline.predict(X_test)\n",
    "    y_pred_prob = pipeline.predict_proba(X_test)[:, 1]\n",
    "    \n",
    "    # Generate classification report\n",
    "    report = classification_report(y_test, y_pred, target_names=['Delayed','On-Time'])\n",
    "    print(f\"Classification Report for {model_name}:\\n{report}\")\n",
    "    \n",
    "    # Calculate AUC\n",
    "    auc_score = roc_auc_score(y_test, y_pred_prob)\n",
    "    print(f\"AUC for {model_name}: {auc_score:.2f}\")\n",
    "    \n",
    "    # Plot ROC curve\n",
    "    fpr, tpr, _ = roc_curve(y_test, y_pred_prob)\n",
    "    plt.plot(fpr, tpr, label=f'{model_name} (AUC = {auc_score:.2f})')\n",
    "    \n",
    "    # Keep track of the best model\n",
    "    if auc_score > best_auc:\n",
    "        best_auc = auc_score\n",
    "        best_model = pipeline\n",
    "\n",
    "# Plot settings\n",
    "plt.plot([0, 1], [0, 1], 'k--')  # Diagonal line\n",
    "plt.xlabel('False Positive Rate')\n",
    "plt.ylabel('True Positive Rate')\n",
    "plt.title('ROC Curve')\n",
    "plt.legend()\n",
    "plt.show()"
   ]
  },
  {
   "cell_type": "code",
   "execution_count": 23,
   "id": "42c92dc5",
   "metadata": {},
   "outputs": [
    {
     "data": {
      "text/html": [
       "<style>#sk-container-id-2 {color: black;}#sk-container-id-2 pre{padding: 0;}#sk-container-id-2 div.sk-toggleable {background-color: white;}#sk-container-id-2 label.sk-toggleable__label {cursor: pointer;display: block;width: 100%;margin-bottom: 0;padding: 0.3em;box-sizing: border-box;text-align: center;}#sk-container-id-2 label.sk-toggleable__label-arrow:before {content: \"▸\";float: left;margin-right: 0.25em;color: #696969;}#sk-container-id-2 label.sk-toggleable__label-arrow:hover:before {color: black;}#sk-container-id-2 div.sk-estimator:hover label.sk-toggleable__label-arrow:before {color: black;}#sk-container-id-2 div.sk-toggleable__content {max-height: 0;max-width: 0;overflow: hidden;text-align: left;background-color: #f0f8ff;}#sk-container-id-2 div.sk-toggleable__content pre {margin: 0.2em;color: black;border-radius: 0.25em;background-color: #f0f8ff;}#sk-container-id-2 input.sk-toggleable__control:checked~div.sk-toggleable__content {max-height: 200px;max-width: 100%;overflow: auto;}#sk-container-id-2 input.sk-toggleable__control:checked~label.sk-toggleable__label-arrow:before {content: \"▾\";}#sk-container-id-2 div.sk-estimator input.sk-toggleable__control:checked~label.sk-toggleable__label {background-color: #d4ebff;}#sk-container-id-2 div.sk-label input.sk-toggleable__control:checked~label.sk-toggleable__label {background-color: #d4ebff;}#sk-container-id-2 input.sk-hidden--visually {border: 0;clip: rect(1px 1px 1px 1px);clip: rect(1px, 1px, 1px, 1px);height: 1px;margin: -1px;overflow: hidden;padding: 0;position: absolute;width: 1px;}#sk-container-id-2 div.sk-estimator {font-family: monospace;background-color: #f0f8ff;border: 1px dotted black;border-radius: 0.25em;box-sizing: border-box;margin-bottom: 0.5em;}#sk-container-id-2 div.sk-estimator:hover {background-color: #d4ebff;}#sk-container-id-2 div.sk-parallel-item::after {content: \"\";width: 100%;border-bottom: 1px solid gray;flex-grow: 1;}#sk-container-id-2 div.sk-label:hover label.sk-toggleable__label {background-color: #d4ebff;}#sk-container-id-2 div.sk-serial::before {content: \"\";position: absolute;border-left: 1px solid gray;box-sizing: border-box;top: 0;bottom: 0;left: 50%;z-index: 0;}#sk-container-id-2 div.sk-serial {display: flex;flex-direction: column;align-items: center;background-color: white;padding-right: 0.2em;padding-left: 0.2em;position: relative;}#sk-container-id-2 div.sk-item {position: relative;z-index: 1;}#sk-container-id-2 div.sk-parallel {display: flex;align-items: stretch;justify-content: center;background-color: white;position: relative;}#sk-container-id-2 div.sk-item::before, #sk-container-id-2 div.sk-parallel-item::before {content: \"\";position: absolute;border-left: 1px solid gray;box-sizing: border-box;top: 0;bottom: 0;left: 50%;z-index: -1;}#sk-container-id-2 div.sk-parallel-item {display: flex;flex-direction: column;z-index: 1;position: relative;background-color: white;}#sk-container-id-2 div.sk-parallel-item:first-child::after {align-self: flex-end;width: 50%;}#sk-container-id-2 div.sk-parallel-item:last-child::after {align-self: flex-start;width: 50%;}#sk-container-id-2 div.sk-parallel-item:only-child::after {width: 0;}#sk-container-id-2 div.sk-dashed-wrapped {border: 1px dashed gray;margin: 0 0.4em 0.5em 0.4em;box-sizing: border-box;padding-bottom: 0.4em;background-color: white;}#sk-container-id-2 div.sk-label label {font-family: monospace;font-weight: bold;display: inline-block;line-height: 1.2em;}#sk-container-id-2 div.sk-label-container {text-align: center;}#sk-container-id-2 div.sk-container {/* jupyter's `normalize.less` sets `[hidden] { display: none; }` but bootstrap.min.css set `[hidden] { display: none !important; }` so we also need the `!important` here to be able to override the default hidden behavior on the sphinx rendered scikit-learn.org. See: https://github.com/scikit-learn/scikit-learn/issues/21755 */display: inline-block !important;position: relative;}#sk-container-id-2 div.sk-text-repr-fallback {display: none;}</style><div id=\"sk-container-id-2\" class=\"sk-top-container\"><div class=\"sk-text-repr-fallback\"><pre>Pipeline(steps=[(&#x27;preprocessor&#x27;,\n",
       "                 ColumnTransformer(transformers=[(&#x27;num&#x27;, &#x27;passthrough&#x27;,\n",
       "                                                  [&#x27;FIRST_COLLECTION_LATITUDE&#x27;,\n",
       "                                                   &#x27;FIRST_COLLECTION_LONGITUDE&#x27;,\n",
       "                                                   &#x27;LAST_DELIVERY_LATITUDE&#x27;,\n",
       "                                                   &#x27;LAST_DELIVERY_LONGITUDE&#x27;,\n",
       "                                                   &#x27;duration1&#x27;, &#x27;duration2&#x27;,\n",
       "                                                   &#x27;duration_longest&#x27;,\n",
       "                                                   &#x27;lat_diff&#x27;, &#x27;lon_diff&#x27;]),\n",
       "                                                 (&#x27;cat&#x27;,\n",
       "                                                  OneHotEncoder(handle_unknown=&#x27;ignore&#x27;),\n",
       "                                                  [&#x27;FIRST_COLLECTION_POST_CODE&#x27;,\n",
       "                                                   &#x27;LAST_DELIVERY_POST_CODE&#x27;,\n",
       "                                                   &#x27;VEHICLE_BUILD_UP&#x27;,\n",
       "                                                   &#x27;VEHICLE_SIZE&#x27;])])),\n",
       "                (&#x27;classifier&#x27;, RandomForestClassifier())])</pre><b>In a Jupyter environment, please rerun this cell to show the HTML representation or trust the notebook. <br />On GitHub, the HTML representation is unable to render, please try loading this page with nbviewer.org.</b></div><div class=\"sk-container\" hidden><div class=\"sk-item sk-dashed-wrapped\"><div class=\"sk-label-container\"><div class=\"sk-label sk-toggleable\"><input class=\"sk-toggleable__control sk-hidden--visually\" id=\"sk-estimator-id-8\" type=\"checkbox\" ><label for=\"sk-estimator-id-8\" class=\"sk-toggleable__label sk-toggleable__label-arrow\">Pipeline</label><div class=\"sk-toggleable__content\"><pre>Pipeline(steps=[(&#x27;preprocessor&#x27;,\n",
       "                 ColumnTransformer(transformers=[(&#x27;num&#x27;, &#x27;passthrough&#x27;,\n",
       "                                                  [&#x27;FIRST_COLLECTION_LATITUDE&#x27;,\n",
       "                                                   &#x27;FIRST_COLLECTION_LONGITUDE&#x27;,\n",
       "                                                   &#x27;LAST_DELIVERY_LATITUDE&#x27;,\n",
       "                                                   &#x27;LAST_DELIVERY_LONGITUDE&#x27;,\n",
       "                                                   &#x27;duration1&#x27;, &#x27;duration2&#x27;,\n",
       "                                                   &#x27;duration_longest&#x27;,\n",
       "                                                   &#x27;lat_diff&#x27;, &#x27;lon_diff&#x27;]),\n",
       "                                                 (&#x27;cat&#x27;,\n",
       "                                                  OneHotEncoder(handle_unknown=&#x27;ignore&#x27;),\n",
       "                                                  [&#x27;FIRST_COLLECTION_POST_CODE&#x27;,\n",
       "                                                   &#x27;LAST_DELIVERY_POST_CODE&#x27;,\n",
       "                                                   &#x27;VEHICLE_BUILD_UP&#x27;,\n",
       "                                                   &#x27;VEHICLE_SIZE&#x27;])])),\n",
       "                (&#x27;classifier&#x27;, RandomForestClassifier())])</pre></div></div></div><div class=\"sk-serial\"><div class=\"sk-item sk-dashed-wrapped\"><div class=\"sk-label-container\"><div class=\"sk-label sk-toggleable\"><input class=\"sk-toggleable__control sk-hidden--visually\" id=\"sk-estimator-id-9\" type=\"checkbox\" ><label for=\"sk-estimator-id-9\" class=\"sk-toggleable__label sk-toggleable__label-arrow\">preprocessor: ColumnTransformer</label><div class=\"sk-toggleable__content\"><pre>ColumnTransformer(transformers=[(&#x27;num&#x27;, &#x27;passthrough&#x27;,\n",
       "                                 [&#x27;FIRST_COLLECTION_LATITUDE&#x27;,\n",
       "                                  &#x27;FIRST_COLLECTION_LONGITUDE&#x27;,\n",
       "                                  &#x27;LAST_DELIVERY_LATITUDE&#x27;,\n",
       "                                  &#x27;LAST_DELIVERY_LONGITUDE&#x27;, &#x27;duration1&#x27;,\n",
       "                                  &#x27;duration2&#x27;, &#x27;duration_longest&#x27;, &#x27;lat_diff&#x27;,\n",
       "                                  &#x27;lon_diff&#x27;]),\n",
       "                                (&#x27;cat&#x27;, OneHotEncoder(handle_unknown=&#x27;ignore&#x27;),\n",
       "                                 [&#x27;FIRST_COLLECTION_POST_CODE&#x27;,\n",
       "                                  &#x27;LAST_DELIVERY_POST_CODE&#x27;, &#x27;VEHICLE_BUILD_UP&#x27;,\n",
       "                                  &#x27;VEHICLE_SIZE&#x27;])])</pre></div></div></div><div class=\"sk-parallel\"><div class=\"sk-parallel-item\"><div class=\"sk-item\"><div class=\"sk-label-container\"><div class=\"sk-label sk-toggleable\"><input class=\"sk-toggleable__control sk-hidden--visually\" id=\"sk-estimator-id-10\" type=\"checkbox\" ><label for=\"sk-estimator-id-10\" class=\"sk-toggleable__label sk-toggleable__label-arrow\">num</label><div class=\"sk-toggleable__content\"><pre>[&#x27;FIRST_COLLECTION_LATITUDE&#x27;, &#x27;FIRST_COLLECTION_LONGITUDE&#x27;, &#x27;LAST_DELIVERY_LATITUDE&#x27;, &#x27;LAST_DELIVERY_LONGITUDE&#x27;, &#x27;duration1&#x27;, &#x27;duration2&#x27;, &#x27;duration_longest&#x27;, &#x27;lat_diff&#x27;, &#x27;lon_diff&#x27;]</pre></div></div></div><div class=\"sk-serial\"><div class=\"sk-item\"><div class=\"sk-estimator sk-toggleable\"><input class=\"sk-toggleable__control sk-hidden--visually\" id=\"sk-estimator-id-11\" type=\"checkbox\" ><label for=\"sk-estimator-id-11\" class=\"sk-toggleable__label sk-toggleable__label-arrow\">passthrough</label><div class=\"sk-toggleable__content\"><pre>passthrough</pre></div></div></div></div></div></div><div class=\"sk-parallel-item\"><div class=\"sk-item\"><div class=\"sk-label-container\"><div class=\"sk-label sk-toggleable\"><input class=\"sk-toggleable__control sk-hidden--visually\" id=\"sk-estimator-id-12\" type=\"checkbox\" ><label for=\"sk-estimator-id-12\" class=\"sk-toggleable__label sk-toggleable__label-arrow\">cat</label><div class=\"sk-toggleable__content\"><pre>[&#x27;FIRST_COLLECTION_POST_CODE&#x27;, &#x27;LAST_DELIVERY_POST_CODE&#x27;, &#x27;VEHICLE_BUILD_UP&#x27;, &#x27;VEHICLE_SIZE&#x27;]</pre></div></div></div><div class=\"sk-serial\"><div class=\"sk-item\"><div class=\"sk-estimator sk-toggleable\"><input class=\"sk-toggleable__control sk-hidden--visually\" id=\"sk-estimator-id-13\" type=\"checkbox\" ><label for=\"sk-estimator-id-13\" class=\"sk-toggleable__label sk-toggleable__label-arrow\">OneHotEncoder</label><div class=\"sk-toggleable__content\"><pre>OneHotEncoder(handle_unknown=&#x27;ignore&#x27;)</pre></div></div></div></div></div></div></div></div><div class=\"sk-item\"><div class=\"sk-estimator sk-toggleable\"><input class=\"sk-toggleable__control sk-hidden--visually\" id=\"sk-estimator-id-14\" type=\"checkbox\" ><label for=\"sk-estimator-id-14\" class=\"sk-toggleable__label sk-toggleable__label-arrow\">RandomForestClassifier</label><div class=\"sk-toggleable__content\"><pre>RandomForestClassifier()</pre></div></div></div></div></div></div></div>"
      ],
      "text/plain": [
       "Pipeline(steps=[('preprocessor',\n",
       "                 ColumnTransformer(transformers=[('num', 'passthrough',\n",
       "                                                  ['FIRST_COLLECTION_LATITUDE',\n",
       "                                                   'FIRST_COLLECTION_LONGITUDE',\n",
       "                                                   'LAST_DELIVERY_LATITUDE',\n",
       "                                                   'LAST_DELIVERY_LONGITUDE',\n",
       "                                                   'duration1', 'duration2',\n",
       "                                                   'duration_longest',\n",
       "                                                   'lat_diff', 'lon_diff']),\n",
       "                                                 ('cat',\n",
       "                                                  OneHotEncoder(handle_unknown='ignore'),\n",
       "                                                  ['FIRST_COLLECTION_POST_CODE',\n",
       "                                                   'LAST_DELIVERY_POST_CODE',\n",
       "                                                   'VEHICLE_BUILD_UP',\n",
       "                                                   'VEHICLE_SIZE'])])),\n",
       "                ('classifier', RandomForestClassifier())])"
      ]
     },
     "execution_count": 23,
     "metadata": {},
     "output_type": "execute_result"
    }
   ],
   "source": [
    "best_model"
   ]
  },
  {
   "cell_type": "markdown",
   "id": "2c87821b",
   "metadata": {},
   "source": [
    "__Comments__\n",
    "* Random Forest is the winning model as it has the highest AUC: 0.77\n",
    "* It also scores the highest in precision & f1-score and 2nd highest on recall\n",
    "* High number of False Negatives (high recall) is better than having high number of False Positives (high precision) \n",
    "* This is because it's less detrimental to shippers to falsely labelling on-time shipments than falsely labelling delayed ones"
   ]
  },
  {
   "cell_type": "markdown",
   "id": "ee1fe88b",
   "metadata": {},
   "source": [
    "# 4. Prediction"
   ]
  },
  {
   "cell_type": "code",
   "execution_count": 29,
   "id": "cdb17cd2",
   "metadata": {},
   "outputs": [
    {
     "data": {
      "text/plain": [
       "Index(['FIRST_COLLECTION_LATITUDE', 'FIRST_COLLECTION_LONGITUDE',\n",
       "       'FIRST_COLLECTION_POST_CODE', 'LAST_DELIVERY_LATITUDE',\n",
       "       'LAST_DELIVERY_LONGITUDE', 'LAST_DELIVERY_POST_CODE',\n",
       "       'VEHICLE_BUILD_UP', 'VEHICLE_SIZE', 'lat_diff', 'lon_diff', 'duration1',\n",
       "       'duration2', 'duration_longest'],\n",
       "      dtype='object')"
      ]
     },
     "execution_count": 29,
     "metadata": {},
     "output_type": "execute_result"
    }
   ],
   "source": [
    "df_test = df_test[X_test.columns]\n",
    "df_test.columns"
   ]
  },
  {
   "cell_type": "code",
   "execution_count": 30,
   "id": "57ec07a4",
   "metadata": {},
   "outputs": [],
   "source": [
    "# Predict using the trained model\n",
    "unseen_predictions = best_model.predict(df_test)\n",
    "unseen_predictions_prob = best_model.predict_proba(df_test)[:, 1]\n",
    "\n",
    "# Combine predictions and their probabilities into a DataFrame\n",
    "results = df_test.copy()\n",
    "results['Predicted_Class'] = unseen_predictions\n",
    "results['Prediction_Probability'] = unseen_predictions_prob"
   ]
  },
  {
   "cell_type": "code",
   "execution_count": 31,
   "id": "cab6a7df",
   "metadata": {},
   "outputs": [
    {
     "data": {
      "text/html": [
       "<div>\n",
       "<style scoped>\n",
       "    .dataframe tbody tr th:only-of-type {\n",
       "        vertical-align: middle;\n",
       "    }\n",
       "\n",
       "    .dataframe tbody tr th {\n",
       "        vertical-align: top;\n",
       "    }\n",
       "\n",
       "    .dataframe thead th {\n",
       "        text-align: right;\n",
       "    }\n",
       "</style>\n",
       "<table border=\"1\" class=\"dataframe\">\n",
       "  <thead>\n",
       "    <tr style=\"text-align: right;\">\n",
       "      <th></th>\n",
       "      <th>FIRST_COLLECTION_LATITUDE</th>\n",
       "      <th>FIRST_COLLECTION_LONGITUDE</th>\n",
       "      <th>FIRST_COLLECTION_POST_CODE</th>\n",
       "      <th>LAST_DELIVERY_LATITUDE</th>\n",
       "      <th>LAST_DELIVERY_LONGITUDE</th>\n",
       "      <th>LAST_DELIVERY_POST_CODE</th>\n",
       "      <th>VEHICLE_BUILD_UP</th>\n",
       "      <th>VEHICLE_SIZE</th>\n",
       "      <th>lat_diff</th>\n",
       "      <th>lon_diff</th>\n",
       "      <th>duration1</th>\n",
       "      <th>duration2</th>\n",
       "      <th>duration_longest</th>\n",
       "      <th>Predicted_Class</th>\n",
       "      <th>Prediction_Probability</th>\n",
       "    </tr>\n",
       "  </thead>\n",
       "  <tbody>\n",
       "    <tr>\n",
       "      <th>0</th>\n",
       "      <td>53.407411</td>\n",
       "      <td>-6.238118</td>\n",
       "      <td>DUBLIN</td>\n",
       "      <td>53.537912</td>\n",
       "      <td>-1.033570</td>\n",
       "      <td>DN3 3FF</td>\n",
       "      <td>Box</td>\n",
       "      <td>Tractor Unit</td>\n",
       "      <td>0.130501</td>\n",
       "      <td>5.204548</td>\n",
       "      <td>64800.0</td>\n",
       "      <td>50400.0</td>\n",
       "      <td>68400.0</td>\n",
       "      <td>0</td>\n",
       "      <td>0.118817</td>\n",
       "    </tr>\n",
       "    <tr>\n",
       "      <th>1</th>\n",
       "      <td>53.882244</td>\n",
       "      <td>-1.267537</td>\n",
       "      <td>LS24 9SD</td>\n",
       "      <td>54.474078</td>\n",
       "      <td>-6.104285</td>\n",
       "      <td>BT26 6JJ</td>\n",
       "      <td>Curtain-Side 13.6M Trailer</td>\n",
       "      <td>Tractor Unit</td>\n",
       "      <td>0.591834</td>\n",
       "      <td>4.836748</td>\n",
       "      <td>336600.0</td>\n",
       "      <td>3600.0</td>\n",
       "      <td>338400.0</td>\n",
       "      <td>0</td>\n",
       "      <td>0.020000</td>\n",
       "    </tr>\n",
       "    <tr>\n",
       "      <th>2</th>\n",
       "      <td>53.407411</td>\n",
       "      <td>-6.238118</td>\n",
       "      <td>DUBLIN</td>\n",
       "      <td>53.537912</td>\n",
       "      <td>-1.033570</td>\n",
       "      <td>DN3 3FF</td>\n",
       "      <td>Curtain-Side 13.6M Trailer</td>\n",
       "      <td>Tractor Unit</td>\n",
       "      <td>0.130501</td>\n",
       "      <td>5.204548</td>\n",
       "      <td>84600.0</td>\n",
       "      <td>84600.0</td>\n",
       "      <td>86400.0</td>\n",
       "      <td>0</td>\n",
       "      <td>0.040000</td>\n",
       "    </tr>\n",
       "    <tr>\n",
       "      <th>3</th>\n",
       "      <td>53.293393</td>\n",
       "      <td>-1.074008</td>\n",
       "      <td>S80 3FY</td>\n",
       "      <td>53.294121</td>\n",
       "      <td>-6.441900</td>\n",
       "      <td>DUBLIN</td>\n",
       "      <td>Curtain-Side 13.6M Trailer</td>\n",
       "      <td>Tractor Unit</td>\n",
       "      <td>0.000728</td>\n",
       "      <td>5.367892</td>\n",
       "      <td>190860.0</td>\n",
       "      <td>189120.0</td>\n",
       "      <td>192660.0</td>\n",
       "      <td>0</td>\n",
       "      <td>0.040000</td>\n",
       "    </tr>\n",
       "    <tr>\n",
       "      <th>4</th>\n",
       "      <td>53.293393</td>\n",
       "      <td>-1.074008</td>\n",
       "      <td>S80 3FY</td>\n",
       "      <td>54.664518</td>\n",
       "      <td>-5.932184</td>\n",
       "      <td>BT36 7LQ</td>\n",
       "      <td>Curtain-Side 13.6M Trailer</td>\n",
       "      <td>Tractor Unit</td>\n",
       "      <td>1.371125</td>\n",
       "      <td>4.858176</td>\n",
       "      <td>350700.0</td>\n",
       "      <td>348960.0</td>\n",
       "      <td>352500.0</td>\n",
       "      <td>1</td>\n",
       "      <td>0.600000</td>\n",
       "    </tr>\n",
       "  </tbody>\n",
       "</table>\n",
       "</div>"
      ],
      "text/plain": [
       "   FIRST_COLLECTION_LATITUDE  FIRST_COLLECTION_LONGITUDE  \\\n",
       "0                  53.407411                   -6.238118   \n",
       "1                  53.882244                   -1.267537   \n",
       "2                  53.407411                   -6.238118   \n",
       "3                  53.293393                   -1.074008   \n",
       "4                  53.293393                   -1.074008   \n",
       "\n",
       "  FIRST_COLLECTION_POST_CODE  LAST_DELIVERY_LATITUDE  LAST_DELIVERY_LONGITUDE  \\\n",
       "0                     DUBLIN               53.537912                -1.033570   \n",
       "1                   LS24 9SD               54.474078                -6.104285   \n",
       "2                     DUBLIN               53.537912                -1.033570   \n",
       "3                    S80 3FY               53.294121                -6.441900   \n",
       "4                    S80 3FY               54.664518                -5.932184   \n",
       "\n",
       "  LAST_DELIVERY_POST_CODE            VEHICLE_BUILD_UP  VEHICLE_SIZE  lat_diff  \\\n",
       "0                 DN3 3FF                         Box  Tractor Unit  0.130501   \n",
       "1                BT26 6JJ  Curtain-Side 13.6M Trailer  Tractor Unit  0.591834   \n",
       "2                 DN3 3FF  Curtain-Side 13.6M Trailer  Tractor Unit  0.130501   \n",
       "3                  DUBLIN  Curtain-Side 13.6M Trailer  Tractor Unit  0.000728   \n",
       "4                BT36 7LQ  Curtain-Side 13.6M Trailer  Tractor Unit  1.371125   \n",
       "\n",
       "   lon_diff  duration1  duration2  duration_longest  Predicted_Class  \\\n",
       "0  5.204548    64800.0    50400.0           68400.0                0   \n",
       "1  4.836748   336600.0     3600.0          338400.0                0   \n",
       "2  5.204548    84600.0    84600.0           86400.0                0   \n",
       "3  5.367892   190860.0   189120.0          192660.0                0   \n",
       "4  4.858176   350700.0   348960.0          352500.0                1   \n",
       "\n",
       "   Prediction_Probability  \n",
       "0                0.118817  \n",
       "1                0.020000  \n",
       "2                0.040000  \n",
       "3                0.040000  \n",
       "4                0.600000  "
      ]
     },
     "execution_count": 31,
     "metadata": {},
     "output_type": "execute_result"
    }
   ],
   "source": [
    "results.head()"
   ]
  },
  {
   "cell_type": "code",
   "execution_count": 34,
   "id": "17f1042d",
   "metadata": {},
   "outputs": [
    {
     "data": {
      "image/png": "[encoded data removed]",
      "text/plain": [
       "<Figure size 800x700 with 1 Axes>"
      ]
     },
     "metadata": {},
     "output_type": "display_data"
    }
   ],
   "source": [
    "# # Plot prediction class distribution\n",
    "helper.plot_class_distribution('Predicted_Class', results, 'Prediction Class', [0, 1], ['Delayed', 'On-Time'])"
   ]
  },
  {
   "cell_type": "markdown",
   "id": "d9accac9",
   "metadata": {},
   "source": [
    "# 5. Save Results"
   ]
  },
  {
   "cell_type": "code",
   "execution_count": 33,
   "id": "a51368bc",
   "metadata": {},
   "outputs": [],
   "source": [
    "results.to_csv('Data/prediction.csv')"
   ]
  }
 ],
 "metadata": {
  "kernelspec": {
   "display_name": "Python 3 (ipykernel)",
   "language": "python",
   "name": "python3"
  },
  "language_info": {
   "codemirror_mode": {
    "name": "ipython",
    "version": 3
   },
   "file_extension": ".py",
   "mimetype": "text/x-python",
   "name": "python",
   "nbconvert_exporter": "python",
   "pygments_lexer": "ipython3",
   "version": "3.11.5"
  }
 },
 "nbformat": 4,
 "nbformat_minor": 5
}
