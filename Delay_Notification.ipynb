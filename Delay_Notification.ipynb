{
 "cells": [
  {
   "cell_type": "markdown",
   "id": "9e87445e",
   "metadata": {},
   "source": [
    "# Q2\n",
    "\n",
    "During the 3-month period from 1st Oct to 31st Dec 2023, which shipper(s) should be notified automatically regarding potential late delivery of which shipments, and at what times"
   ]
  },
  {
   "cell_type": "markdown",
   "id": "32ccd791",
   "metadata": {},
   "source": [
    "# 1. Library Import"
   ]
  },
  {
   "cell_type": "code",
   "execution_count": 1,
   "id": "99f1580e",
   "metadata": {},
   "outputs": [],
   "source": [
    "%reload_ext autoreload\n",
    "%autoreload 2\n",
    "\n",
    "import numpy as np\n",
    "import pandas as pd \n",
    "import matplotlib.pyplot as plt\n",
    "import seaborn as sns\n",
    "import requests\n",
    "import helper\n",
    "\n",
    "from datetime import datetime\n",
    "from datetime import timedelta"
   ]
  },
  {
   "cell_type": "markdown",
   "id": "9d0992e5",
   "metadata": {},
   "source": [
    "# 2. Data Loading"
   ]
  },
  {
   "cell_type": "code",
   "execution_count": 2,
   "id": "0e0404c4",
   "metadata": {},
   "outputs": [
    {
     "name": "stdout",
     "output_type": "stream",
     "text": [
      "(3245, 15) (1000, 15) (641662, 4)\n"
     ]
    }
   ],
   "source": [
    "df_GPS = pd.read_csv('Data/GPS_data.csv')\n",
    "df_bookings = pd.read_csv('Data/Shipment_bookings.csv')\n",
    "df_new_bookings = pd.read_csv('Data/New_bookings.csv')\n",
    "\n",
    "print(df_bookings.shape, df_new_bookings.shape, df_GPS.shape)"
   ]
  },
  {
   "cell_type": "code",
   "execution_count": 3,
   "id": "c336ee21",
   "metadata": {},
   "outputs": [
    {
     "data": {
      "text/plain": [
       "1"
      ]
     },
     "execution_count": 3,
     "metadata": {},
     "output_type": "execute_result"
    }
   ],
   "source": [
    "df_bookings.FIRST_COLLECTION_POST_CODE.isna().sum()"
   ]
  },
  {
   "cell_type": "code",
   "execution_count": 4,
   "id": "94d8cec4",
   "metadata": {},
   "outputs": [],
   "source": [
    "df = pd.read_csv('Data/bookings_processed.csv')"
   ]
  },
  {
   "cell_type": "markdown",
   "id": "49d1e89d",
   "metadata": {},
   "source": [
    "# 3. Late Collection & Late Delivery Notifications"
   ]
  },
  {
   "cell_type": "code",
   "execution_count": 5,
   "id": "65a2a0c1",
   "metadata": {},
   "outputs": [],
   "source": [
    "# convert to datetime format \n",
    "date_cols = ['FIRST_COLLECTION_SCHEDULE_EARLIEST', \n",
    "             'FIRST_COLLECTION_SCHEDULE_LATEST', \n",
    "             'LAST_DELIVERY_SCHEDULE_EARLIEST',\n",
    "             'LAST_DELIVERY_SCHEDULE_LATEST',\n",
    "             'RECORD_TIMESTAMP']\n",
    "\n",
    "for i in date_cols:\n",
    "    df[i]=pd.to_datetime(df[i])"
   ]
  },
  {
   "cell_type": "code",
   "execution_count": 6,
   "id": "d07be658",
   "metadata": {},
   "outputs": [
    {
     "data": {
      "text/html": [
       "<div>\n",
       "<style scoped>\n",
       "    .dataframe tbody tr th:only-of-type {\n",
       "        vertical-align: middle;\n",
       "    }\n",
       "\n",
       "    .dataframe tbody tr th {\n",
       "        vertical-align: top;\n",
       "    }\n",
       "\n",
       "    .dataframe thead th {\n",
       "        text-align: right;\n",
       "    }\n",
       "</style>\n",
       "<table border=\"1\" class=\"dataframe\">\n",
       "  <thead>\n",
       "    <tr style=\"text-align: right;\">\n",
       "      <th></th>\n",
       "      <th>Unnamed: 0</th>\n",
       "      <th>PROJECT_ID</th>\n",
       "      <th>SHIPMENT_NUMBER</th>\n",
       "      <th>CARRIER_DISPLAY_ID</th>\n",
       "      <th>VEHICLE_SIZE</th>\n",
       "      <th>VEHICLE_BUILD_UP</th>\n",
       "      <th>FIRST_COLLECTION_POST_CODE</th>\n",
       "      <th>LAST_DELIVERY_POST_CODE</th>\n",
       "      <th>FIRST_COLLECTION_LATITUDE</th>\n",
       "      <th>FIRST_COLLECTION_LONGITUDE</th>\n",
       "      <th>...</th>\n",
       "      <th>LAST_DELIVERY_SCHEDULE_EARLIEST</th>\n",
       "      <th>LAST_DELIVERY_SCHEDULE_LATEST</th>\n",
       "      <th>LAT</th>\n",
       "      <th>LON</th>\n",
       "      <th>RECORD_TIMESTAMP</th>\n",
       "      <th>GPS_coord</th>\n",
       "      <th>last_delivery_coord</th>\n",
       "      <th>POSTCODE</th>\n",
       "      <th>on_time</th>\n",
       "      <th>almost_on_time</th>\n",
       "    </tr>\n",
       "  </thead>\n",
       "  <tbody>\n",
       "    <tr>\n",
       "      <th>0</th>\n",
       "      <td>0</td>\n",
       "      <td>5456fcfa-5b0c-428e-b322-240d508b6660</td>\n",
       "      <td>SEZHUK-231005-250448</td>\n",
       "      <td>CAUK000096</td>\n",
       "      <td>Tractor Unit</td>\n",
       "      <td>Curtain-Side 13.6M Trailer</td>\n",
       "      <td>PE29 2XR</td>\n",
       "      <td>EH48 2FB</td>\n",
       "      <td>52.315672</td>\n",
       "      <td>-0.157664</td>\n",
       "      <td>...</td>\n",
       "      <td>2023-10-09 09:55:00+00:00</td>\n",
       "      <td>2023-10-09 10:25:00+00:00</td>\n",
       "      <td>52.316544</td>\n",
       "      <td>-0.157263</td>\n",
       "      <td>2023-10-06 10:24:00+01:00</td>\n",
       "      <td>[52.31654422, -0.15726316]</td>\n",
       "      <td>[55.877803, -3.648558]</td>\n",
       "      <td>PE29 2XJ</td>\n",
       "      <td>0</td>\n",
       "      <td>0</td>\n",
       "    </tr>\n",
       "    <tr>\n",
       "      <th>1</th>\n",
       "      <td>1</td>\n",
       "      <td>eb7a9df0-4875-43d8-9060-c79c35eae2fb</td>\n",
       "      <td>SEZHUK-231217-275004</td>\n",
       "      <td>CAUK000660</td>\n",
       "      <td>Tractor Unit</td>\n",
       "      <td>Box 44ft</td>\n",
       "      <td>BD5 8LZ</td>\n",
       "      <td>RG19 4BQ</td>\n",
       "      <td>53.764125</td>\n",
       "      <td>-1.740145</td>\n",
       "      <td>...</td>\n",
       "      <td>2023-12-20 06:00:00+00:00</td>\n",
       "      <td>2023-12-20 08:56:00+00:00</td>\n",
       "      <td>53.745423</td>\n",
       "      <td>-1.702855</td>\n",
       "      <td>2023-12-20 04:08:00+00:00</td>\n",
       "      <td>[53.7454231574671, -1.70285456004236]</td>\n",
       "      <td>[51.398851, -1.231993]</td>\n",
       "      <td>No postcode found for the given coordinates.</td>\n",
       "      <td>0</td>\n",
       "      <td>0</td>\n",
       "    </tr>\n",
       "    <tr>\n",
       "      <th>2</th>\n",
       "      <td>2</td>\n",
       "      <td>eb7a9df0-4875-43d8-9060-c79c35eae2fb</td>\n",
       "      <td>SEZHUK-231210-272018</td>\n",
       "      <td>CAUK000435</td>\n",
       "      <td>Tractor Unit</td>\n",
       "      <td>Box 44ft</td>\n",
       "      <td>BD5 8LZ</td>\n",
       "      <td>EN3 7QP</td>\n",
       "      <td>53.767302</td>\n",
       "      <td>-1.746560</td>\n",
       "      <td>...</td>\n",
       "      <td>2023-12-14 07:03:00+00:00</td>\n",
       "      <td>2023-12-14 10:43:00+00:00</td>\n",
       "      <td>51.659889</td>\n",
       "      <td>-0.024926</td>\n",
       "      <td>2023-12-14 10:18:00+00:00</td>\n",
       "      <td>[51.659889300233104, -0.024926167738865]</td>\n",
       "      <td>[51.6607, -0.022247]</td>\n",
       "      <td>No postcode found for the given coordinates.</td>\n",
       "      <td>0</td>\n",
       "      <td>0</td>\n",
       "    </tr>\n",
       "    <tr>\n",
       "      <th>3</th>\n",
       "      <td>3</td>\n",
       "      <td>40415fe3-e446-4d1e-b141-3698b0dc47f3</td>\n",
       "      <td>SEZHUK-231211-272127</td>\n",
       "      <td>CAUK000096</td>\n",
       "      <td>Tractor Unit</td>\n",
       "      <td>Curtain-Side 13.6M Trailer</td>\n",
       "      <td>HP22 5BL</td>\n",
       "      <td>NG31 7UH</td>\n",
       "      <td>51.779657</td>\n",
       "      <td>-0.772897</td>\n",
       "      <td>...</td>\n",
       "      <td>2023-12-13 15:30:00+00:00</td>\n",
       "      <td>2023-12-13 16:00:00+00:00</td>\n",
       "      <td>52.889862</td>\n",
       "      <td>-0.634389</td>\n",
       "      <td>2023-12-13 17:22:00+00:00</td>\n",
       "      <td>[52.8898615976303, -0.63438873938486]</td>\n",
       "      <td>[52.888113, -0.634948]</td>\n",
       "      <td>No postcode found for the given coordinates.</td>\n",
       "      <td>0</td>\n",
       "      <td>0</td>\n",
       "    </tr>\n",
       "    <tr>\n",
       "      <th>4</th>\n",
       "      <td>4</td>\n",
       "      <td>39a4e234-5d35-4d94-8e8a-b8bf6fe13953</td>\n",
       "      <td>SEZHUK-231025-256168</td>\n",
       "      <td>CAUK000155</td>\n",
       "      <td>Tractor Unit</td>\n",
       "      <td>Curtain Side</td>\n",
       "      <td>CV23 8BQ</td>\n",
       "      <td>G75 0ZZ</td>\n",
       "      <td>52.334853</td>\n",
       "      <td>-1.180450</td>\n",
       "      <td>...</td>\n",
       "      <td>2023-11-07 23:00:00+00:00</td>\n",
       "      <td>2023-11-07 23:59:00+00:00</td>\n",
       "      <td>55.845446</td>\n",
       "      <td>-3.880531</td>\n",
       "      <td>2023-11-08 03:53:00+00:00</td>\n",
       "      <td>[55.8454462753676, -3.88053080781484]</td>\n",
       "      <td>[55.735089, -4.168719]</td>\n",
       "      <td>No postcode found for the given coordinates.</td>\n",
       "      <td>0</td>\n",
       "      <td>0</td>\n",
       "    </tr>\n",
       "  </tbody>\n",
       "</table>\n",
       "<p>5 rows × 24 columns</p>\n",
       "</div>"
      ],
      "text/plain": [
       "   Unnamed: 0                            PROJECT_ID       SHIPMENT_NUMBER  \\\n",
       "0           0  5456fcfa-5b0c-428e-b322-240d508b6660  SEZHUK-231005-250448   \n",
       "1           1  eb7a9df0-4875-43d8-9060-c79c35eae2fb  SEZHUK-231217-275004   \n",
       "2           2  eb7a9df0-4875-43d8-9060-c79c35eae2fb  SEZHUK-231210-272018   \n",
       "3           3  40415fe3-e446-4d1e-b141-3698b0dc47f3  SEZHUK-231211-272127   \n",
       "4           4  39a4e234-5d35-4d94-8e8a-b8bf6fe13953  SEZHUK-231025-256168   \n",
       "\n",
       "  CARRIER_DISPLAY_ID  VEHICLE_SIZE            VEHICLE_BUILD_UP  \\\n",
       "0         CAUK000096  Tractor Unit  Curtain-Side 13.6M Trailer   \n",
       "1         CAUK000660  Tractor Unit                    Box 44ft   \n",
       "2         CAUK000435  Tractor Unit                    Box 44ft   \n",
       "3         CAUK000096  Tractor Unit  Curtain-Side 13.6M Trailer   \n",
       "4         CAUK000155  Tractor Unit                Curtain Side   \n",
       "\n",
       "  FIRST_COLLECTION_POST_CODE LAST_DELIVERY_POST_CODE  \\\n",
       "0                   PE29 2XR                EH48 2FB   \n",
       "1                    BD5 8LZ                RG19 4BQ   \n",
       "2                    BD5 8LZ                 EN3 7QP   \n",
       "3                   HP22 5BL                NG31 7UH   \n",
       "4                   CV23 8BQ                 G75 0ZZ   \n",
       "\n",
       "   FIRST_COLLECTION_LATITUDE  FIRST_COLLECTION_LONGITUDE  ...  \\\n",
       "0                  52.315672                   -0.157664  ...   \n",
       "1                  53.764125                   -1.740145  ...   \n",
       "2                  53.767302                   -1.746560  ...   \n",
       "3                  51.779657                   -0.772897  ...   \n",
       "4                  52.334853                   -1.180450  ...   \n",
       "\n",
       "   LAST_DELIVERY_SCHEDULE_EARLIEST  LAST_DELIVERY_SCHEDULE_LATEST        LAT  \\\n",
       "0        2023-10-09 09:55:00+00:00      2023-10-09 10:25:00+00:00  52.316544   \n",
       "1        2023-12-20 06:00:00+00:00      2023-12-20 08:56:00+00:00  53.745423   \n",
       "2        2023-12-14 07:03:00+00:00      2023-12-14 10:43:00+00:00  51.659889   \n",
       "3        2023-12-13 15:30:00+00:00      2023-12-13 16:00:00+00:00  52.889862   \n",
       "4        2023-11-07 23:00:00+00:00      2023-11-07 23:59:00+00:00  55.845446   \n",
       "\n",
       "        LON           RECORD_TIMESTAMP  \\\n",
       "0 -0.157263  2023-10-06 10:24:00+01:00   \n",
       "1 -1.702855  2023-12-20 04:08:00+00:00   \n",
       "2 -0.024926  2023-12-14 10:18:00+00:00   \n",
       "3 -0.634389  2023-12-13 17:22:00+00:00   \n",
       "4 -3.880531  2023-11-08 03:53:00+00:00   \n",
       "\n",
       "                                  GPS_coord     last_delivery_coord  \\\n",
       "0                [52.31654422, -0.15726316]  [55.877803, -3.648558]   \n",
       "1     [53.7454231574671, -1.70285456004236]  [51.398851, -1.231993]   \n",
       "2  [51.659889300233104, -0.024926167738865]    [51.6607, -0.022247]   \n",
       "3     [52.8898615976303, -0.63438873938486]  [52.888113, -0.634948]   \n",
       "4     [55.8454462753676, -3.88053080781484]  [55.735089, -4.168719]   \n",
       "\n",
       "                                       POSTCODE on_time almost_on_time  \n",
       "0                                      PE29 2XJ       0              0  \n",
       "1  No postcode found for the given coordinates.       0              0  \n",
       "2  No postcode found for the given coordinates.       0              0  \n",
       "3  No postcode found for the given coordinates.       0              0  \n",
       "4  No postcode found for the given coordinates.       0              0  \n",
       "\n",
       "[5 rows x 24 columns]"
      ]
     },
     "execution_count": 6,
     "metadata": {},
     "output_type": "execute_result"
    }
   ],
   "source": [
    "df.head()"
   ]
  },
  {
   "cell_type": "markdown",
   "id": "28d9f8ad",
   "metadata": {},
   "source": [
    "## 3.1 Processing"
   ]
  },
  {
   "cell_type": "code",
   "execution_count": 7,
   "id": "f0fa7f3f",
   "metadata": {},
   "outputs": [
    {
     "data": {
      "text/plain": [
       "(641662, 27)"
      ]
     },
     "execution_count": 7,
     "metadata": {},
     "output_type": "execute_result"
    }
   ],
   "source": [
    "## Shippers should be notified when 1st RECORD_TIMESTAMP > LAST_DELIVERY_SCHEDULE_EARLIEST \n",
    "\n",
    "df_all=df_GPS.merge(df, how='left', on='SHIPMENT_NUMBER')\n",
    "df_all.shape"
   ]
  },
  {
   "cell_type": "code",
   "execution_count": 8,
   "id": "73db61aa",
   "metadata": {},
   "outputs": [
    {
     "data": {
      "text/plain": [
       "Index(['SHIPMENT_NUMBER', 'LAT_x', 'LON_x', 'RECORD_TIMESTAMP_x', 'Unnamed: 0',\n",
       "       'PROJECT_ID', 'CARRIER_DISPLAY_ID', 'VEHICLE_SIZE', 'VEHICLE_BUILD_UP',\n",
       "       'FIRST_COLLECTION_POST_CODE', 'LAST_DELIVERY_POST_CODE',\n",
       "       'FIRST_COLLECTION_LATITUDE', 'FIRST_COLLECTION_LONGITUDE',\n",
       "       'LAST_DELIVERY_LATITUDE', 'LAST_DELIVERY_LONGITUDE',\n",
       "       'FIRST_COLLECTION_SCHEDULE_EARLIEST',\n",
       "       'FIRST_COLLECTION_SCHEDULE_LATEST', 'LAST_DELIVERY_SCHEDULE_EARLIEST',\n",
       "       'LAST_DELIVERY_SCHEDULE_LATEST', 'LAT_y', 'LON_y', 'RECORD_TIMESTAMP_y',\n",
       "       'GPS_coord', 'last_delivery_coord', 'POSTCODE', 'on_time',\n",
       "       'almost_on_time'],\n",
       "      dtype='object')"
      ]
     },
     "execution_count": 8,
     "metadata": {},
     "output_type": "execute_result"
    }
   ],
   "source": [
    "df_all.columns"
   ]
  },
  {
   "cell_type": "code",
   "execution_count": 9,
   "id": "9bfcee31",
   "metadata": {},
   "outputs": [
    {
     "data": {
      "text/plain": [
       "Index(['SHIPMENT_NUMBER', 'LAT', 'LON', 'RECORD_TIMESTAMP', 'Unnamed: 0',\n",
       "       'PROJECT_ID', 'CARRIER_DISPLAY_ID', 'VEHICLE_SIZE', 'VEHICLE_BUILD_UP',\n",
       "       'FIRST_COLLECTION_POST_CODE', 'LAST_DELIVERY_POST_CODE',\n",
       "       'FIRST_COLLECTION_LATITUDE', 'FIRST_COLLECTION_LONGITUDE',\n",
       "       'LAST_DELIVERY_LATITUDE', 'LAST_DELIVERY_LONGITUDE',\n",
       "       'FIRST_COLLECTION_SCHEDULE_EARLIEST',\n",
       "       'FIRST_COLLECTION_SCHEDULE_LATEST', 'LAST_DELIVERY_SCHEDULE_EARLIEST',\n",
       "       'LAST_DELIVERY_SCHEDULE_LATEST', 'GPS_coord', 'last_delivery_coord',\n",
       "       'POSTCODE', 'on_time', 'almost_on_time'],\n",
       "      dtype='object')"
      ]
     },
     "execution_count": 9,
     "metadata": {},
     "output_type": "execute_result"
    }
   ],
   "source": [
    "df_all.drop(columns=['LAT_y', 'LON_y', 'RECORD_TIMESTAMP_y'], axis=1, inplace=True)\n",
    "# df_all.drop(columns=['expected_duration_longest', 'latest_latest'], axis=1, inplace=True)\n",
    "df_all = df_all.rename(columns={'LAT_x':'LAT', 'LON_x':'LON', 'RECORD_TIMESTAMP_x':'RECORD_TIMESTAMP'})\n",
    "df_all.columns"
   ]
  },
  {
   "cell_type": "code",
   "execution_count": 10,
   "id": "0fe556dd",
   "metadata": {},
   "outputs": [
    {
     "data": {
      "text/plain": [
       "(641662, 24)"
      ]
     },
     "execution_count": 10,
     "metadata": {},
     "output_type": "execute_result"
    }
   ],
   "source": [
    "df_all.shape"
   ]
  },
  {
   "cell_type": "markdown",
   "id": "93279ab8",
   "metadata": {},
   "source": [
    "## 3.2 Late Collection"
   ]
  },
  {
   "cell_type": "code",
   "execution_count": 11,
   "id": "f9ce55c6",
   "metadata": {},
   "outputs": [
    {
     "data": {
      "text/plain": [
       "528"
      ]
     },
     "execution_count": 11,
     "metadata": {},
     "output_type": "execute_result"
    }
   ],
   "source": [
    "# number of missing tracking postcodes\n",
    "df_all['POSTCODE'].isna().sum()"
   ]
  },
  {
   "cell_type": "markdown",
   "id": "a22d4ab3",
   "metadata": {},
   "source": [
    "### 3.2.1 Impute missing Tracking POSTCODEs"
   ]
  },
  {
   "cell_type": "code",
   "execution_count": 12,
   "id": "b6c30e27",
   "metadata": {},
   "outputs": [
    {
     "name": "stderr",
     "output_type": "stream",
     "text": [
      "C:\\Users\\Lenovo IdeaCentre\\AppData\\Local\\Temp\\ipykernel_4592\\1880291068.py:5: SettingWithCopyWarning: \n",
      "A value is trying to be set on a copy of a slice from a DataFrame.\n",
      "Try using .loc[row_indexer,col_indexer] = value instead\n",
      "\n",
      "See the caveats in the documentation: https://pandas.pydata.org/pandas-docs/stable/user_guide/indexing.html#returning-a-view-versus-a-copy\n",
      "  df_missing['GPS_coord']=df_missing[['LAT', 'LON']].values.tolist()\n",
      "C:\\Users\\Lenovo IdeaCentre\\AppData\\Local\\Temp\\ipykernel_4592\\1880291068.py:8: SettingWithCopyWarning: \n",
      "A value is trying to be set on a copy of a slice from a DataFrame.\n",
      "Try using .loc[row_indexer,col_indexer] = value instead\n",
      "\n",
      "See the caveats in the documentation: https://pandas.pydata.org/pandas-docs/stable/user_guide/indexing.html#returning-a-view-versus-a-copy\n",
      "  df_missing['POSTCODE'] = df_missing['GPS_coord'].apply(helper.get_postcode_from_gps)\n"
     ]
    },
    {
     "data": {
      "text/plain": [
       "0"
      ]
     },
     "execution_count": 12,
     "metadata": {},
     "output_type": "execute_result"
    }
   ],
   "source": [
    "# find missing tracking POST_CODEs & save them in a temporary dataset\n",
    "df_missing = df_all[df_all['POSTCODE'].isna()]\n",
    "\n",
    "# combine lon & lat columns into 1 GPS coordinates column\n",
    "df_missing['GPS_coord']=df_missing[['LAT', 'LON']].values.tolist()\n",
    "\n",
    "# convert GPS to postcode\n",
    "df_missing['POSTCODE'] = df_missing['GPS_coord'].apply(helper.get_postcode_from_gps)\n",
    "\n",
    "df_all['POSTCODE'] = df_all['POSTCODE'].fillna(df_missing['POSTCODE'])\n",
    "df_all['POSTCODE'].isna().sum()"
   ]
  },
  {
   "cell_type": "markdown",
   "id": "727ff047",
   "metadata": {},
   "source": [
    "### 3.2.2 Impute missing FIRST_COLLECTION_POST_CODEs"
   ]
  },
  {
   "cell_type": "code",
   "execution_count": 13,
   "id": "a2d74de7",
   "metadata": {},
   "outputs": [
    {
     "data": {
      "text/plain": [
       "(877, 24)"
      ]
     },
     "execution_count": 13,
     "metadata": {},
     "output_type": "execute_result"
    }
   ],
   "source": [
    "# number of missing FIRST_COLLECTION_POST_CODEs\n",
    "df_all[df_all.FIRST_COLLECTION_POST_CODE.isna()].shape"
   ]
  },
  {
   "cell_type": "code",
   "execution_count": 14,
   "id": "d14416e9",
   "metadata": {},
   "outputs": [
    {
     "name": "stderr",
     "output_type": "stream",
     "text": [
      "C:\\Users\\Lenovo IdeaCentre\\AppData\\Local\\Temp\\ipykernel_4592\\494028282.py:5: SettingWithCopyWarning: \n",
      "A value is trying to be set on a copy of a slice from a DataFrame.\n",
      "Try using .loc[row_indexer,col_indexer] = value instead\n",
      "\n",
      "See the caveats in the documentation: https://pandas.pydata.org/pandas-docs/stable/user_guide/indexing.html#returning-a-view-versus-a-copy\n",
      "  df_missing['FIRST_COLLECTION_coord']=df_missing[['FIRST_COLLECTION_LATITUDE', 'FIRST_COLLECTION_LONGITUDE']].values.tolist()\n",
      "C:\\Users\\Lenovo IdeaCentre\\AppData\\Local\\Temp\\ipykernel_4592\\494028282.py:8: SettingWithCopyWarning: \n",
      "A value is trying to be set on a copy of a slice from a DataFrame.\n",
      "Try using .loc[row_indexer,col_indexer] = value instead\n",
      "\n",
      "See the caveats in the documentation: https://pandas.pydata.org/pandas-docs/stable/user_guide/indexing.html#returning-a-view-versus-a-copy\n",
      "  df_missing['FIRST_COLLECTION_POST_CODE'] = df_missing['FIRST_COLLECTION_coord'].apply(helper.get_postcode_from_gps)\n"
     ]
    },
    {
     "data": {
      "text/plain": [
       "0"
      ]
     },
     "execution_count": 14,
     "metadata": {},
     "output_type": "execute_result"
    }
   ],
   "source": [
    "# find missing FIRST_COLLECTION_POST_CODEs & save them in a temporary dataset\n",
    "df_missing = df_all[df_all['FIRST_COLLECTION_POST_CODE'].isna()]\n",
    "\n",
    "# combine lon & lat columns into 1 GPS coordinates column\n",
    "df_missing['FIRST_COLLECTION_coord']=df_missing[['FIRST_COLLECTION_LATITUDE', 'FIRST_COLLECTION_LONGITUDE']].values.tolist()\n",
    "\n",
    "# convert GPS to postcode\n",
    "df_missing['FIRST_COLLECTION_POST_CODE'] = df_missing['FIRST_COLLECTION_coord'].apply(helper.get_postcode_from_gps)\n",
    "\n",
    "df_all['FIRST_COLLECTION_POST_CODE'] = df_all['FIRST_COLLECTION_POST_CODE'].fillna(df_missing['FIRST_COLLECTION_POST_CODE'])\n",
    "df_all['FIRST_COLLECTION_POST_CODE'].isna().sum()"
   ]
  },
  {
   "cell_type": "code",
   "execution_count": 15,
   "id": "81b35ef2",
   "metadata": {},
   "outputs": [
    {
     "name": "stdout",
     "output_type": "stream",
     "text": [
      "Number of shipments to be notified of potential late collection:  20\n"
     ]
    }
   ],
   "source": [
    "# label shipments that reached collection postcodes after the latest sheduled collection\n",
    "df_all['notify_collection'] = np.where((df_all['RECORD_TIMESTAMP']>df_all['FIRST_COLLECTION_SCHEDULE_LATEST'])&\n",
    "                                      (df_all['POSTCODE'].str[:-1]==df_all['FIRST_COLLECTION_POST_CODE'].str[:-1]), 1, 0)\n",
    "# keep earliest timestamp for each shipment & store in a temporary dataset \n",
    "df_notify_collection = df_all[df_all['notify_collection']==1].sort_values(by='RECORD_TIMESTAMP').drop_duplicates(subset='SHIPMENT_NUMBER', keep='first')\n",
    "print('Number of shipments to be notified of potential late collection: ', df_notify_collection.shape[0])"
   ]
  },
  {
   "cell_type": "markdown",
   "id": "6587d18f",
   "metadata": {},
   "source": [
    "## 3.3 Late Delivery"
   ]
  },
  {
   "cell_type": "code",
   "execution_count": 16,
   "id": "cdb80ee0",
   "metadata": {},
   "outputs": [
    {
     "name": "stdout",
     "output_type": "stream",
     "text": [
      "Number of shipments to be notified of potential late delivery:  317\n",
      "Number of shipments notified of potential late delivery but arrived on time:  176\n"
     ]
    }
   ],
   "source": [
    "# label shipments that reached delivery postcodes after the latest scheduled delivery\n",
    "df_all['notify_delivery'] = np.where((df_all['RECORD_TIMESTAMP']>df_all['LAST_DELIVERY_SCHEDULE_EARLIEST'])&\n",
    "                                     (df_all['POSTCODE'].str[:-1]==df_all['LAST_DELIVERY_POST_CODE'].str[:-1]), 1, 0)\n",
    "\n",
    "# keep earliest timestamp for each shipment & store in a temporary dataset \n",
    "df_notify_delivery = df_all[df_all['notify_delivery']==1].sort_values(by='RECORD_TIMESTAMP').drop_duplicates(subset='SHIPMENT_NUMBER', keep='first')\n",
    "\n",
    "print('Number of shipments to be notified of potential late delivery: ', df_notify_delivery.shape[0])\n",
    "print('Number of shipments notified of potential late delivery but arrived on time: ', df_notify_delivery[df_notify_delivery['almost_on_time']==1].shape[0])"
   ]
  },
  {
   "cell_type": "markdown",
   "id": "46c2f169",
   "metadata": {},
   "source": [
    "## 3.4 Clean & Consolidate Datasets"
   ]
  },
  {
   "cell_type": "code",
   "execution_count": 17,
   "id": "91cf0f77",
   "metadata": {},
   "outputs": [
    {
     "data": {
      "text/html": [
       "<div>\n",
       "<style scoped>\n",
       "    .dataframe tbody tr th:only-of-type {\n",
       "        vertical-align: middle;\n",
       "    }\n",
       "\n",
       "    .dataframe tbody tr th {\n",
       "        vertical-align: top;\n",
       "    }\n",
       "\n",
       "    .dataframe thead th {\n",
       "        text-align: right;\n",
       "    }\n",
       "</style>\n",
       "<table border=\"1\" class=\"dataframe\">\n",
       "  <thead>\n",
       "    <tr style=\"text-align: right;\">\n",
       "      <th></th>\n",
       "      <th>SHIPMENT_NUMBER</th>\n",
       "      <th>notify_late_collection</th>\n",
       "      <th>when_notify_late_collection</th>\n",
       "    </tr>\n",
       "  </thead>\n",
       "  <tbody>\n",
       "    <tr>\n",
       "      <th>92767</th>\n",
       "      <td>SEZHUK-231014-253149</td>\n",
       "      <td>1</td>\n",
       "      <td>2023-10-15T16:41:00.000+0100</td>\n",
       "    </tr>\n",
       "    <tr>\n",
       "      <th>124039</th>\n",
       "      <td>SEZHUK-231019-254595</td>\n",
       "      <td>1</td>\n",
       "      <td>2023-10-22T21:28:00.000+0100</td>\n",
       "    </tr>\n",
       "    <tr>\n",
       "      <th>131404</th>\n",
       "      <td>SEZHUK-231020-255020</td>\n",
       "      <td>1</td>\n",
       "      <td>2023-10-23T16:37:00.000+0100</td>\n",
       "    </tr>\n",
       "    <tr>\n",
       "      <th>143886</th>\n",
       "      <td>SEZHUK-231024-255918</td>\n",
       "      <td>1</td>\n",
       "      <td>2023-10-24T20:22:00.000+0100</td>\n",
       "    </tr>\n",
       "    <tr>\n",
       "      <th>153125</th>\n",
       "      <td>SEZHUK-231025-256450</td>\n",
       "      <td>1</td>\n",
       "      <td>2023-11-05T02:48:00.000Z</td>\n",
       "    </tr>\n",
       "  </tbody>\n",
       "</table>\n",
       "</div>"
      ],
      "text/plain": [
       "             SHIPMENT_NUMBER  notify_late_collection  \\\n",
       "92767   SEZHUK-231014-253149                       1   \n",
       "124039  SEZHUK-231019-254595                       1   \n",
       "131404  SEZHUK-231020-255020                       1   \n",
       "143886  SEZHUK-231024-255918                       1   \n",
       "153125  SEZHUK-231025-256450                       1   \n",
       "\n",
       "         when_notify_late_collection  \n",
       "92767   2023-10-15T16:41:00.000+0100  \n",
       "124039  2023-10-22T21:28:00.000+0100  \n",
       "131404  2023-10-23T16:37:00.000+0100  \n",
       "143886  2023-10-24T20:22:00.000+0100  \n",
       "153125      2023-11-05T02:48:00.000Z  "
      ]
     },
     "execution_count": 17,
     "metadata": {},
     "output_type": "execute_result"
    }
   ],
   "source": [
    "# only keep necessarry columns for merging with booking dataset\n",
    "collect=pd.DataFrame(df_notify_collection[['SHIPMENT_NUMBER','notify_collection', 'RECORD_TIMESTAMP']])\n",
    "collect.columns = ['SHIPMENT_NUMBER','notify_late_collection', 'when_notify_late_collection']\n",
    "collect.head()"
   ]
  },
  {
   "cell_type": "code",
   "execution_count": 18,
   "id": "41c74bb2",
   "metadata": {},
   "outputs": [
    {
     "data": {
      "text/html": [
       "<div>\n",
       "<style scoped>\n",
       "    .dataframe tbody tr th:only-of-type {\n",
       "        vertical-align: middle;\n",
       "    }\n",
       "\n",
       "    .dataframe tbody tr th {\n",
       "        vertical-align: top;\n",
       "    }\n",
       "\n",
       "    .dataframe thead th {\n",
       "        text-align: right;\n",
       "    }\n",
       "</style>\n",
       "<table border=\"1\" class=\"dataframe\">\n",
       "  <thead>\n",
       "    <tr style=\"text-align: right;\">\n",
       "      <th></th>\n",
       "      <th>SHIPMENT_NUMBER</th>\n",
       "      <th>notify_late_delivery</th>\n",
       "      <th>when_notify_late_delivery</th>\n",
       "    </tr>\n",
       "  </thead>\n",
       "  <tbody>\n",
       "    <tr>\n",
       "      <th>11842</th>\n",
       "      <td>SEZHUK-230930-249069</td>\n",
       "      <td>1</td>\n",
       "      <td>2023-10-02T08:55:00.000+0100</td>\n",
       "    </tr>\n",
       "    <tr>\n",
       "      <th>11468</th>\n",
       "      <td>SEZHUK-230930-249060</td>\n",
       "      <td>1</td>\n",
       "      <td>2023-10-02T08:55:00.000+0100</td>\n",
       "    </tr>\n",
       "    <tr>\n",
       "      <th>22209</th>\n",
       "      <td>SEZHUK-231002-249324</td>\n",
       "      <td>1</td>\n",
       "      <td>2023-10-02T21:31:00.000+0100</td>\n",
       "    </tr>\n",
       "    <tr>\n",
       "      <th>7273</th>\n",
       "      <td>SEZHUK-230929-248494</td>\n",
       "      <td>1</td>\n",
       "      <td>2023-10-03T08:34:00.000+0100</td>\n",
       "    </tr>\n",
       "    <tr>\n",
       "      <th>19798</th>\n",
       "      <td>SEZHUK-231001-249231</td>\n",
       "      <td>1</td>\n",
       "      <td>2023-10-03T08:55:00.000+0100</td>\n",
       "    </tr>\n",
       "  </tbody>\n",
       "</table>\n",
       "</div>"
      ],
      "text/plain": [
       "            SHIPMENT_NUMBER  notify_late_delivery  \\\n",
       "11842  SEZHUK-230930-249069                     1   \n",
       "11468  SEZHUK-230930-249060                     1   \n",
       "22209  SEZHUK-231002-249324                     1   \n",
       "7273   SEZHUK-230929-248494                     1   \n",
       "19798  SEZHUK-231001-249231                     1   \n",
       "\n",
       "          when_notify_late_delivery  \n",
       "11842  2023-10-02T08:55:00.000+0100  \n",
       "11468  2023-10-02T08:55:00.000+0100  \n",
       "22209  2023-10-02T21:31:00.000+0100  \n",
       "7273   2023-10-03T08:34:00.000+0100  \n",
       "19798  2023-10-03T08:55:00.000+0100  "
      ]
     },
     "execution_count": 18,
     "metadata": {},
     "output_type": "execute_result"
    }
   ],
   "source": [
    "# only keep necessarry columns for merging with booking dataset\n",
    "deliver=pd.DataFrame(df_notify_delivery[['SHIPMENT_NUMBER','notify_delivery', 'RECORD_TIMESTAMP']])\n",
    "deliver.columns = ['SHIPMENT_NUMBER','notify_late_delivery', 'when_notify_late_delivery']\n",
    "deliver.head()"
   ]
  },
  {
   "cell_type": "code",
   "execution_count": 19,
   "id": "7e560ee6",
   "metadata": {},
   "outputs": [
    {
     "data": {
      "text/plain": [
       "(3245, 16)"
      ]
     },
     "execution_count": 19,
     "metadata": {},
     "output_type": "execute_result"
    }
   ],
   "source": [
    "# join late collection notification dataset with shipment bookings dataset\n",
    "df=df_bookings.set_index('SHIPMENT_NUMBER').join(collect.set_index('SHIPMENT_NUMBER'))\n",
    "df.shape"
   ]
  },
  {
   "cell_type": "code",
   "execution_count": 20,
   "id": "eb33ac8d",
   "metadata": {},
   "outputs": [
    {
     "data": {
      "text/plain": [
       "(3245, 19)"
      ]
     },
     "execution_count": 20,
     "metadata": {},
     "output_type": "execute_result"
    }
   ],
   "source": [
    "# join late delivery notification dataset with shipment bookings dataset\n",
    "df=df.reset_index()\n",
    "df=df.set_index('SHIPMENT_NUMBER').join(deliver.set_index('SHIPMENT_NUMBER'))\n",
    "df=df.reset_index()\n",
    "df.shape"
   ]
  },
  {
   "cell_type": "code",
   "execution_count": 21,
   "id": "b995d932",
   "metadata": {},
   "outputs": [],
   "source": [
    "# impute shipments that don't need to be notified of possible delay with 0\n",
    "\n",
    "df['notify_late_collection']=df['notify_late_collection'].fillna(0) \n",
    "df['notify_late_delivery']=df['notify_late_delivery'].fillna(0)"
   ]
  },
  {
   "cell_type": "code",
   "execution_count": 22,
   "id": "d614aa8a",
   "metadata": {},
   "outputs": [
    {
     "data": {
      "text/html": [
       "<div>\n",
       "<style scoped>\n",
       "    .dataframe tbody tr th:only-of-type {\n",
       "        vertical-align: middle;\n",
       "    }\n",
       "\n",
       "    .dataframe tbody tr th {\n",
       "        vertical-align: top;\n",
       "    }\n",
       "\n",
       "    .dataframe thead th {\n",
       "        text-align: right;\n",
       "    }\n",
       "</style>\n",
       "<table border=\"1\" class=\"dataframe\">\n",
       "  <thead>\n",
       "    <tr style=\"text-align: right;\">\n",
       "      <th></th>\n",
       "      <th>SHIPMENT_NUMBER</th>\n",
       "      <th>notify_late_collection</th>\n",
       "      <th>when_notify_late_collection</th>\n",
       "      <th>notify_late_delivery</th>\n",
       "      <th>when_notify_late_delivery</th>\n",
       "    </tr>\n",
       "  </thead>\n",
       "  <tbody>\n",
       "    <tr>\n",
       "      <th>926</th>\n",
       "      <td>SEZHUK-231216-274798</td>\n",
       "      <td>1.0</td>\n",
       "      <td>2023-12-21T04:00:00.000Z</td>\n",
       "      <td>1.0</td>\n",
       "      <td>2023-12-21T04:00:00.000Z</td>\n",
       "    </tr>\n",
       "  </tbody>\n",
       "</table>\n",
       "</div>"
      ],
      "text/plain": [
       "          SHIPMENT_NUMBER  notify_late_collection when_notify_late_collection  \\\n",
       "926  SEZHUK-231216-274798                     1.0    2023-12-21T04:00:00.000Z   \n",
       "\n",
       "     notify_late_delivery when_notify_late_delivery  \n",
       "926                   1.0  2023-12-21T04:00:00.000Z  "
      ]
     },
     "execution_count": 22,
     "metadata": {},
     "output_type": "execute_result"
    }
   ],
   "source": [
    "# The final dataset contains a flag that labels whether or not a notification needs to be sent to a shipper \n",
    "# to warn them of potential late collection and late delivery \n",
    "# and a timestamp when each notification needs to be sent respectively\n",
    "\n",
    "# The following is a shipment that should've been notified of both late collection & delivery\n",
    "\n",
    "df[(df['notify_late_collection']==1)&(df['notify_late_delivery']==1)][['SHIPMENT_NUMBER', \n",
    "                                                                       'notify_late_collection', \n",
    "                                                                       'when_notify_late_collection',\n",
    "                                                                       'notify_late_delivery', \n",
    "                                                                       'when_notify_late_delivery']]"
   ]
  },
  {
   "cell_type": "markdown",
   "id": "128cffb4",
   "metadata": {},
   "source": [
    "# 4. Save Datasets"
   ]
  },
  {
   "cell_type": "code",
   "execution_count": 23,
   "id": "6f3f24ba",
   "metadata": {},
   "outputs": [],
   "source": [
    "# df_notify_collection.to_csv('Data/late_collection_notification.csv')\n",
    "# df_notify_delivery.to_csv('Data/late_delivery_notification.csv')\n",
    "df.to_csv('Data/Shipment_bookings_with_notifications.csv')"
   ]
  },
  {
   "cell_type": "code",
   "execution_count": null,
   "id": "d3348714",
   "metadata": {},
   "outputs": [],
   "source": [
    "# df_notify_delivery = pd.read_csv('Data/late_delivery_notification.csv')\n",
    "# df_notify_collection = pd.read_csv('Data/late_collection_notification.csv')"
   ]
  }
 ],
 "metadata": {
  "kernelspec": {
   "display_name": "Python 3 (ipykernel)",
   "language": "python",
   "name": "python3"
  },
  "language_info": {
   "codemirror_mode": {
    "name": "ipython",
    "version": 3
   },
   "file_extension": ".py",
   "mimetype": "text/x-python",
   "name": "python",
   "nbconvert_exporter": "python",
   "pygments_lexer": "ipython3",
   "version": "3.11.5"
  }
 },
 "nbformat": 4,
 "nbformat_minor": 5
}
