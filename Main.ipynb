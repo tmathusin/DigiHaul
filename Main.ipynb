{
 "cells": [
  {
   "cell_type": "markdown",
   "id": "9e87445e",
   "metadata": {},
   "source": [
    "# Q1\n",
    "What percentage of shipments met the on-time delivery threshold (arriving no later than 30 minutes past the scheduled delivery window) between October 1st and December 31st, 2023?"
   ]
  },
  {
   "cell_type": "markdown",
   "id": "32ccd791",
   "metadata": {},
   "source": [
    "# 1. Library Import"
   ]
  },
  {
   "cell_type": "code",
   "execution_count": 1,
   "id": "99f1580e",
   "metadata": {},
   "outputs": [],
   "source": [
    "%reload_ext autoreload\n",
    "%autoreload 2\n",
    "\n",
    "import numpy as np\n",
    "import pandas as pd \n",
    "import matplotlib.pyplot as plt\n",
    "import seaborn as sns\n",
    "import requests\n",
    "import helper\n",
    "\n",
    "from datetime import datetime\n",
    "from datetime import timedelta"
   ]
  },
  {
   "cell_type": "markdown",
   "id": "9d0992e5",
   "metadata": {},
   "source": [
    "# 2. Data Loading"
   ]
  },
  {
   "cell_type": "code",
   "execution_count": 2,
   "id": "0e0404c4",
   "metadata": {},
   "outputs": [
    {
     "name": "stdout",
     "output_type": "stream",
     "text": [
      "(3245, 15) (1000, 15) (641662, 4)\n"
     ]
    }
   ],
   "source": [
    "df_GPS = pd.read_csv('Data/GPS_data.csv')\n",
    "df_bookings = pd.read_csv('Data/Shipment_bookings.csv')\n",
    "df_new_bookings = pd.read_csv('Data/New_bookings.csv')\n",
    "print(df_bookings.shape, df_new_bookings.shape, df_GPS.shape)"
   ]
  },
  {
   "cell_type": "code",
   "execution_count": 3,
   "id": "fac17bc7",
   "metadata": {},
   "outputs": [
    {
     "data": {
      "text/plain": [
       "Index(['SHIPMENT_NUMBER', 'LAT', 'LON', 'RECORD_TIMESTAMP'], dtype='object')"
      ]
     },
     "execution_count": 3,
     "metadata": {},
     "output_type": "execute_result"
    }
   ],
   "source": [
    "df_GPS.columns"
   ]
  },
  {
   "cell_type": "code",
   "execution_count": 4,
   "id": "be99d848",
   "metadata": {},
   "outputs": [
    {
     "name": "stdout",
     "output_type": "stream",
     "text": [
      "<class 'pandas.core.frame.DataFrame'>\n",
      "RangeIndex: 641662 entries, 0 to 641661\n",
      "Data columns (total 4 columns):\n",
      " #   Column            Non-Null Count   Dtype  \n",
      "---  ------            --------------   -----  \n",
      " 0   SHIPMENT_NUMBER   641662 non-null  object \n",
      " 1   LAT               641662 non-null  float64\n",
      " 2   LON               641662 non-null  float64\n",
      " 3   RECORD_TIMESTAMP  641662 non-null  object \n",
      "dtypes: float64(2), object(2)\n",
      "memory usage: 19.6+ MB\n"
     ]
    }
   ],
   "source": [
    "df_GPS.info()"
   ]
  },
  {
   "cell_type": "code",
   "execution_count": 5,
   "id": "fb7c433d",
   "metadata": {},
   "outputs": [
    {
     "data": {
      "text/plain": [
       "Index(['PROJECT_ID', 'SHIPMENT_NUMBER', 'CARRIER_DISPLAY_ID', 'VEHICLE_SIZE',\n",
       "       'VEHICLE_BUILD_UP', 'FIRST_COLLECTION_POST_CODE',\n",
       "       'LAST_DELIVERY_POST_CODE', 'FIRST_COLLECTION_LATITUDE',\n",
       "       'FIRST_COLLECTION_LONGITUDE', 'LAST_DELIVERY_LATITUDE',\n",
       "       'LAST_DELIVERY_LONGITUDE', 'FIRST_COLLECTION_SCHEDULE_EARLIEST',\n",
       "       'FIRST_COLLECTION_SCHEDULE_LATEST', 'LAST_DELIVERY_SCHEDULE_EARLIEST',\n",
       "       'LAST_DELIVERY_SCHEDULE_LATEST'],\n",
       "      dtype='object')"
      ]
     },
     "execution_count": 5,
     "metadata": {},
     "output_type": "execute_result"
    }
   ],
   "source": [
    "df_bookings.columns"
   ]
  },
  {
   "cell_type": "code",
   "execution_count": 6,
   "id": "1e60887d",
   "metadata": {},
   "outputs": [
    {
     "name": "stdout",
     "output_type": "stream",
     "text": [
      "<class 'pandas.core.frame.DataFrame'>\n",
      "RangeIndex: 3245 entries, 0 to 3244\n",
      "Data columns (total 15 columns):\n",
      " #   Column                              Non-Null Count  Dtype  \n",
      "---  ------                              --------------  -----  \n",
      " 0   PROJECT_ID                          3245 non-null   object \n",
      " 1   SHIPMENT_NUMBER                     3245 non-null   object \n",
      " 2   CARRIER_DISPLAY_ID                  3245 non-null   object \n",
      " 3   VEHICLE_SIZE                        3245 non-null   object \n",
      " 4   VEHICLE_BUILD_UP                    3245 non-null   object \n",
      " 5   FIRST_COLLECTION_POST_CODE          3244 non-null   object \n",
      " 6   LAST_DELIVERY_POST_CODE             3241 non-null   object \n",
      " 7   FIRST_COLLECTION_LATITUDE           3245 non-null   float64\n",
      " 8   FIRST_COLLECTION_LONGITUDE          3245 non-null   float64\n",
      " 9   LAST_DELIVERY_LATITUDE              3245 non-null   float64\n",
      " 10  LAST_DELIVERY_LONGITUDE             3245 non-null   float64\n",
      " 11  FIRST_COLLECTION_SCHEDULE_EARLIEST  3245 non-null   object \n",
      " 12  FIRST_COLLECTION_SCHEDULE_LATEST    3245 non-null   object \n",
      " 13  LAST_DELIVERY_SCHEDULE_EARLIEST     3245 non-null   object \n",
      " 14  LAST_DELIVERY_SCHEDULE_LATEST       3245 non-null   object \n",
      "dtypes: float64(4), object(11)\n",
      "memory usage: 380.4+ KB\n"
     ]
    }
   ],
   "source": [
    "df_bookings.info()"
   ]
  },
  {
   "cell_type": "code",
   "execution_count": 7,
   "id": "6f633a5b",
   "metadata": {},
   "outputs": [
    {
     "data": {
      "text/plain": [
       "Index(['SHIPMENT_NUMBER', 'SHIPPER_ID', 'CARRIER_ID', 'VEHICLE_SIZE',\n",
       "       'VEHICLE_BUILD_UP', 'FIRST_COLLECTION_POST_CODE',\n",
       "       'LAST_DELIVERY_POST_CODE', 'FIRST_COLLECTION_LATITUDE',\n",
       "       'FIRST_COLLECTION_LONGITUDE', 'LAST_DELIVERY_LATITUDE',\n",
       "       'LAST_DELIVERY_LONGITUDE', 'FIRST_COLLECTION_SCHEDULE_EARLIEST',\n",
       "       'FIRST_COLLECTION_SCHEDULE_LATEST', 'LAST_DELIVERY_SCHEDULE_EARLIEST',\n",
       "       'LAST_DELIVERY_SCHEDULE_LATEST'],\n",
       "      dtype='object')"
      ]
     },
     "execution_count": 7,
     "metadata": {},
     "output_type": "execute_result"
    }
   ],
   "source": [
    "df_new_bookings.columns"
   ]
  },
  {
   "cell_type": "code",
   "execution_count": 8,
   "id": "ce8876a7",
   "metadata": {},
   "outputs": [
    {
     "name": "stdout",
     "output_type": "stream",
     "text": [
      "<class 'pandas.core.frame.DataFrame'>\n",
      "RangeIndex: 1000 entries, 0 to 999\n",
      "Data columns (total 15 columns):\n",
      " #   Column                              Non-Null Count  Dtype  \n",
      "---  ------                              --------------  -----  \n",
      " 0   SHIPMENT_NUMBER                     1000 non-null   object \n",
      " 1   SHIPPER_ID                          1000 non-null   object \n",
      " 2   CARRIER_ID                          1000 non-null   object \n",
      " 3   VEHICLE_SIZE                        1000 non-null   object \n",
      " 4   VEHICLE_BUILD_UP                    1000 non-null   object \n",
      " 5   FIRST_COLLECTION_POST_CODE          998 non-null    object \n",
      " 6   LAST_DELIVERY_POST_CODE             1000 non-null   object \n",
      " 7   FIRST_COLLECTION_LATITUDE           1000 non-null   float64\n",
      " 8   FIRST_COLLECTION_LONGITUDE          1000 non-null   float64\n",
      " 9   LAST_DELIVERY_LATITUDE              1000 non-null   float64\n",
      " 10  LAST_DELIVERY_LONGITUDE             1000 non-null   float64\n",
      " 11  FIRST_COLLECTION_SCHEDULE_EARLIEST  1000 non-null   object \n",
      " 12  FIRST_COLLECTION_SCHEDULE_LATEST    1000 non-null   object \n",
      " 13  LAST_DELIVERY_SCHEDULE_EARLIEST     1000 non-null   object \n",
      " 14  LAST_DELIVERY_SCHEDULE_LATEST       1000 non-null   object \n",
      "dtypes: float64(4), object(11)\n",
      "memory usage: 117.3+ KB\n"
     ]
    }
   ],
   "source": [
    "df_new_bookings.info()"
   ]
  },
  {
   "cell_type": "markdown",
   "id": "276be94e",
   "metadata": {},
   "source": [
    "__Observations__\n",
    "\n",
    "* SHIPPER_ID is missing from Shipment_bookings dataset\n",
    "* 4 LAST_DELIVERY_POST_CODEs are missing from Shipment_bookings\n",
    "* 2 FIRST_COLLECTION_POST_CODEs are missing from New_bookings dataset"
   ]
  },
  {
   "cell_type": "markdown",
   "id": "f6fb44aa",
   "metadata": {},
   "source": [
    "# 3. Pre-Processing"
   ]
  },
  {
   "cell_type": "markdown",
   "id": "e40bed20",
   "metadata": {},
   "source": [
    "## 3.1 Date Formatting"
   ]
  },
  {
   "cell_type": "code",
   "execution_count": 9,
   "id": "6dce6407",
   "metadata": {},
   "outputs": [],
   "source": [
    "# convert to datetime format \n",
    "date_cols = ['FIRST_COLLECTION_SCHEDULE_EARLIEST', \n",
    "             'FIRST_COLLECTION_SCHEDULE_LATEST', \n",
    "             'LAST_DELIVERY_SCHEDULE_EARLIEST',\n",
    "             'LAST_DELIVERY_SCHEDULE_LATEST',\n",
    "             'RECORD_TIMESTAMP']\n",
    "datasets = [df_bookings, df_new_bookings, df_GPS]\n",
    "\n",
    "for data in datasets:\n",
    "    for col in date_cols:\n",
    "        if (col in data.columns):\n",
    "            data[col]=pd.to_datetime(data[col])"
   ]
  },
  {
   "cell_type": "code",
   "execution_count": 10,
   "id": "36899f44",
   "metadata": {},
   "outputs": [
    {
     "data": {
      "text/html": [
       "<div>\n",
       "<style scoped>\n",
       "    .dataframe tbody tr th:only-of-type {\n",
       "        vertical-align: middle;\n",
       "    }\n",
       "\n",
       "    .dataframe tbody tr th {\n",
       "        vertical-align: top;\n",
       "    }\n",
       "\n",
       "    .dataframe thead th {\n",
       "        text-align: right;\n",
       "    }\n",
       "</style>\n",
       "<table border=\"1\" class=\"dataframe\">\n",
       "  <thead>\n",
       "    <tr style=\"text-align: right;\">\n",
       "      <th></th>\n",
       "      <th>FIRST_COLLECTION_SCHEDULE_EARLIEST</th>\n",
       "      <th>FIRST_COLLECTION_SCHEDULE_LATEST</th>\n",
       "      <th>LAST_DELIVERY_SCHEDULE_EARLIEST</th>\n",
       "      <th>LAST_DELIVERY_SCHEDULE_LATEST</th>\n",
       "    </tr>\n",
       "  </thead>\n",
       "  <tbody>\n",
       "    <tr>\n",
       "      <th>count</th>\n",
       "      <td>3245</td>\n",
       "      <td>3245</td>\n",
       "      <td>3245</td>\n",
       "      <td>3245</td>\n",
       "    </tr>\n",
       "    <tr>\n",
       "      <th>mean</th>\n",
       "      <td>2023-11-18 16:32:19.085978368+00:00</td>\n",
       "      <td>2023-11-18 19:10:45.564252416+00:00</td>\n",
       "      <td>2023-11-19 06:36:37.944529920+00:00</td>\n",
       "      <td>2023-11-19 07:58:31.620647168+00:00</td>\n",
       "    </tr>\n",
       "    <tr>\n",
       "      <th>min</th>\n",
       "      <td>2023-09-29 14:00:00+00:00</td>\n",
       "      <td>2023-10-01 01:00:00+00:00</td>\n",
       "      <td>2023-10-01 03:00:00+00:00</td>\n",
       "      <td>2023-10-01 03:30:00+00:00</td>\n",
       "    </tr>\n",
       "    <tr>\n",
       "      <th>25%</th>\n",
       "      <td>2023-10-27 10:00:00+00:00</td>\n",
       "      <td>2023-10-27 10:30:00+00:00</td>\n",
       "      <td>2023-10-27 16:30:00+00:00</td>\n",
       "      <td>2023-10-27 17:00:00+00:00</td>\n",
       "    </tr>\n",
       "    <tr>\n",
       "      <th>50%</th>\n",
       "      <td>2023-11-20 22:19:00+00:00</td>\n",
       "      <td>2023-11-21 01:00:00+00:00</td>\n",
       "      <td>2023-11-21 09:30:00+00:00</td>\n",
       "      <td>2023-11-21 10:30:00+00:00</td>\n",
       "    </tr>\n",
       "    <tr>\n",
       "      <th>75%</th>\n",
       "      <td>2023-12-12 07:30:00+00:00</td>\n",
       "      <td>2023-12-12 13:00:00+00:00</td>\n",
       "      <td>2023-12-12 19:00:00+00:00</td>\n",
       "      <td>2023-12-12 20:00:00+00:00</td>\n",
       "    </tr>\n",
       "    <tr>\n",
       "      <th>max</th>\n",
       "      <td>2023-12-31 00:30:00+00:00</td>\n",
       "      <td>2023-12-31 01:00:00+00:00</td>\n",
       "      <td>2024-01-03 10:25:00+00:00</td>\n",
       "      <td>2024-01-03 10:55:00+00:00</td>\n",
       "    </tr>\n",
       "  </tbody>\n",
       "</table>\n",
       "</div>"
      ],
      "text/plain": [
       "        FIRST_COLLECTION_SCHEDULE_EARLIEST  \\\n",
       "count                                 3245   \n",
       "mean   2023-11-18 16:32:19.085978368+00:00   \n",
       "min              2023-09-29 14:00:00+00:00   \n",
       "25%              2023-10-27 10:00:00+00:00   \n",
       "50%              2023-11-20 22:19:00+00:00   \n",
       "75%              2023-12-12 07:30:00+00:00   \n",
       "max              2023-12-31 00:30:00+00:00   \n",
       "\n",
       "          FIRST_COLLECTION_SCHEDULE_LATEST  \\\n",
       "count                                 3245   \n",
       "mean   2023-11-18 19:10:45.564252416+00:00   \n",
       "min              2023-10-01 01:00:00+00:00   \n",
       "25%              2023-10-27 10:30:00+00:00   \n",
       "50%              2023-11-21 01:00:00+00:00   \n",
       "75%              2023-12-12 13:00:00+00:00   \n",
       "max              2023-12-31 01:00:00+00:00   \n",
       "\n",
       "           LAST_DELIVERY_SCHEDULE_EARLIEST  \\\n",
       "count                                 3245   \n",
       "mean   2023-11-19 06:36:37.944529920+00:00   \n",
       "min              2023-10-01 03:00:00+00:00   \n",
       "25%              2023-10-27 16:30:00+00:00   \n",
       "50%              2023-11-21 09:30:00+00:00   \n",
       "75%              2023-12-12 19:00:00+00:00   \n",
       "max              2024-01-03 10:25:00+00:00   \n",
       "\n",
       "             LAST_DELIVERY_SCHEDULE_LATEST  \n",
       "count                                 3245  \n",
       "mean   2023-11-19 07:58:31.620647168+00:00  \n",
       "min              2023-10-01 03:30:00+00:00  \n",
       "25%              2023-10-27 17:00:00+00:00  \n",
       "50%              2023-11-21 10:30:00+00:00  \n",
       "75%              2023-12-12 20:00:00+00:00  \n",
       "max              2024-01-03 10:55:00+00:00  "
      ]
     },
     "execution_count": 10,
     "metadata": {},
     "output_type": "execute_result"
    }
   ],
   "source": [
    "df_bookings[['FIRST_COLLECTION_SCHEDULE_EARLIEST', \n",
    "             'FIRST_COLLECTION_SCHEDULE_LATEST', \n",
    "             'LAST_DELIVERY_SCHEDULE_EARLIEST',\n",
    "             'LAST_DELIVERY_SCHEDULE_LATEST']].describe()"
   ]
  },
  {
   "cell_type": "code",
   "execution_count": 11,
   "id": "7beea240",
   "metadata": {},
   "outputs": [
    {
     "data": {
      "text/html": [
       "<div>\n",
       "<style scoped>\n",
       "    .dataframe tbody tr th:only-of-type {\n",
       "        vertical-align: middle;\n",
       "    }\n",
       "\n",
       "    .dataframe tbody tr th {\n",
       "        vertical-align: top;\n",
       "    }\n",
       "\n",
       "    .dataframe thead th {\n",
       "        text-align: right;\n",
       "    }\n",
       "</style>\n",
       "<table border=\"1\" class=\"dataframe\">\n",
       "  <thead>\n",
       "    <tr style=\"text-align: right;\">\n",
       "      <th></th>\n",
       "      <th>FIRST_COLLECTION_SCHEDULE_EARLIEST</th>\n",
       "      <th>FIRST_COLLECTION_SCHEDULE_LATEST</th>\n",
       "      <th>LAST_DELIVERY_SCHEDULE_EARLIEST</th>\n",
       "      <th>LAST_DELIVERY_SCHEDULE_LATEST</th>\n",
       "    </tr>\n",
       "  </thead>\n",
       "  <tbody>\n",
       "    <tr>\n",
       "      <th>count</th>\n",
       "      <td>1000</td>\n",
       "      <td>1000</td>\n",
       "      <td>1000</td>\n",
       "      <td>1000</td>\n",
       "    </tr>\n",
       "    <tr>\n",
       "      <th>mean</th>\n",
       "      <td>2024-01-15 02:49:43.573000192+00:00</td>\n",
       "      <td>2024-01-15 06:22:47.230000128+00:00</td>\n",
       "      <td>2024-01-15 18:17:38.884999936+00:00</td>\n",
       "      <td>2024-01-15 20:52:49.081999872+00:00</td>\n",
       "    </tr>\n",
       "    <tr>\n",
       "      <th>min</th>\n",
       "      <td>2024-01-09 12:00:00+00:00</td>\n",
       "      <td>2024-01-10 00:30:00+00:00</td>\n",
       "      <td>2024-01-10 04:30:00+00:00</td>\n",
       "      <td>2024-01-10 05:00:00+00:00</td>\n",
       "    </tr>\n",
       "    <tr>\n",
       "      <th>25%</th>\n",
       "      <td>2024-01-12 03:11:45+00:00</td>\n",
       "      <td>2024-01-12 05:45:00+00:00</td>\n",
       "      <td>2024-01-12 11:30:00+00:00</td>\n",
       "      <td>2024-01-12 15:59:00+00:00</td>\n",
       "    </tr>\n",
       "    <tr>\n",
       "      <th>50%</th>\n",
       "      <td>2024-01-15 15:00:00+00:00</td>\n",
       "      <td>2024-01-15 18:00:00+00:00</td>\n",
       "      <td>2024-01-16 07:32:00+00:00</td>\n",
       "      <td>2024-01-16 08:57:30+00:00</td>\n",
       "    </tr>\n",
       "    <tr>\n",
       "      <th>75%</th>\n",
       "      <td>2024-01-17 15:00:00+00:00</td>\n",
       "      <td>2024-01-17 18:07:30+00:00</td>\n",
       "      <td>2024-01-18 07:32:00+00:00</td>\n",
       "      <td>2024-01-18 09:27:30+00:00</td>\n",
       "    </tr>\n",
       "    <tr>\n",
       "      <th>max</th>\n",
       "      <td>2024-01-20 23:45:00+00:00</td>\n",
       "      <td>2024-01-20 23:59:24+00:00</td>\n",
       "      <td>2024-01-23 19:30:00+00:00</td>\n",
       "      <td>2024-01-23 19:45:00+00:00</td>\n",
       "    </tr>\n",
       "  </tbody>\n",
       "</table>\n",
       "</div>"
      ],
      "text/plain": [
       "        FIRST_COLLECTION_SCHEDULE_EARLIEST  \\\n",
       "count                                 1000   \n",
       "mean   2024-01-15 02:49:43.573000192+00:00   \n",
       "min              2024-01-09 12:00:00+00:00   \n",
       "25%              2024-01-12 03:11:45+00:00   \n",
       "50%              2024-01-15 15:00:00+00:00   \n",
       "75%              2024-01-17 15:00:00+00:00   \n",
       "max              2024-01-20 23:45:00+00:00   \n",
       "\n",
       "          FIRST_COLLECTION_SCHEDULE_LATEST  \\\n",
       "count                                 1000   \n",
       "mean   2024-01-15 06:22:47.230000128+00:00   \n",
       "min              2024-01-10 00:30:00+00:00   \n",
       "25%              2024-01-12 05:45:00+00:00   \n",
       "50%              2024-01-15 18:00:00+00:00   \n",
       "75%              2024-01-17 18:07:30+00:00   \n",
       "max              2024-01-20 23:59:24+00:00   \n",
       "\n",
       "           LAST_DELIVERY_SCHEDULE_EARLIEST  \\\n",
       "count                                 1000   \n",
       "mean   2024-01-15 18:17:38.884999936+00:00   \n",
       "min              2024-01-10 04:30:00+00:00   \n",
       "25%              2024-01-12 11:30:00+00:00   \n",
       "50%              2024-01-16 07:32:00+00:00   \n",
       "75%              2024-01-18 07:32:00+00:00   \n",
       "max              2024-01-23 19:30:00+00:00   \n",
       "\n",
       "             LAST_DELIVERY_SCHEDULE_LATEST  \n",
       "count                                 1000  \n",
       "mean   2024-01-15 20:52:49.081999872+00:00  \n",
       "min              2024-01-10 05:00:00+00:00  \n",
       "25%              2024-01-12 15:59:00+00:00  \n",
       "50%              2024-01-16 08:57:30+00:00  \n",
       "75%              2024-01-18 09:27:30+00:00  \n",
       "max              2024-01-23 19:45:00+00:00  "
      ]
     },
     "execution_count": 11,
     "metadata": {},
     "output_type": "execute_result"
    }
   ],
   "source": [
    "df_new_bookings[['FIRST_COLLECTION_SCHEDULE_EARLIEST', \n",
    "             'FIRST_COLLECTION_SCHEDULE_LATEST', \n",
    "             'LAST_DELIVERY_SCHEDULE_EARLIEST',\n",
    "             'LAST_DELIVERY_SCHEDULE_LATEST']].describe()"
   ]
  },
  {
   "cell_type": "code",
   "execution_count": 12,
   "id": "0c81bb1e",
   "metadata": {},
   "outputs": [
    {
     "data": {
      "text/plain": [
       "count                        641662\n",
       "unique                       121350\n",
       "top       2023-12-20 07:26:00+00:00\n",
       "freq                             28\n",
       "Name: RECORD_TIMESTAMP, dtype: object"
      ]
     },
     "execution_count": 12,
     "metadata": {},
     "output_type": "execute_result"
    }
   ],
   "source": [
    "df_GPS['RECORD_TIMESTAMP'].describe()"
   ]
  },
  {
   "cell_type": "markdown",
   "id": "9eb6e256",
   "metadata": {},
   "source": [
    "## 3.2 Data Cleaning"
   ]
  },
  {
   "cell_type": "code",
   "execution_count": 13,
   "id": "d9e49d49",
   "metadata": {},
   "outputs": [
    {
     "data": {
      "text/plain": [
       "(3245, 4)"
      ]
     },
     "execution_count": 13,
     "metadata": {},
     "output_type": "execute_result"
    }
   ],
   "source": [
    "# remove all GPS records except the latest\n",
    "\n",
    "df_GPS_latest = df_GPS.sort_values(by='RECORD_TIMESTAMP', ascending=False).drop_duplicates(subset='SHIPMENT_NUMBER', keep='first')\n",
    "df_GPS_latest.shape"
   ]
  },
  {
   "cell_type": "markdown",
   "id": "54b23017",
   "metadata": {},
   "source": [
    "## 3.2 Merge GPS data"
   ]
  },
  {
   "cell_type": "code",
   "execution_count": 14,
   "id": "146c334e",
   "metadata": {},
   "outputs": [
    {
     "data": {
      "text/plain": [
       "(3245, 18)"
      ]
     },
     "execution_count": 14,
     "metadata": {},
     "output_type": "execute_result"
    }
   ],
   "source": [
    "df_train=df_bookings.merge(df_GPS_latest, how='left', on='SHIPMENT_NUMBER')\n",
    "df_train.shape"
   ]
  },
  {
   "cell_type": "code",
   "execution_count": 15,
   "id": "2f169798",
   "metadata": {},
   "outputs": [
    {
     "data": {
      "text/html": [
       "<div>\n",
       "<style scoped>\n",
       "    .dataframe tbody tr th:only-of-type {\n",
       "        vertical-align: middle;\n",
       "    }\n",
       "\n",
       "    .dataframe tbody tr th {\n",
       "        vertical-align: top;\n",
       "    }\n",
       "\n",
       "    .dataframe thead th {\n",
       "        text-align: right;\n",
       "    }\n",
       "</style>\n",
       "<table border=\"1\" class=\"dataframe\">\n",
       "  <thead>\n",
       "    <tr style=\"text-align: right;\">\n",
       "      <th></th>\n",
       "      <th>SHIPMENT_NUMBER</th>\n",
       "      <th>LAT</th>\n",
       "      <th>LON</th>\n",
       "      <th>RECORD_TIMESTAMP</th>\n",
       "      <th>LAST_DELIVERY_SCHEDULE_LATEST</th>\n",
       "      <th>LAST_DELIVERY_LATITUDE</th>\n",
       "      <th>LAST_DELIVERY_LONGITUDE</th>\n",
       "    </tr>\n",
       "  </thead>\n",
       "  <tbody>\n",
       "    <tr>\n",
       "      <th>0</th>\n",
       "      <td>SEZHUK-231005-250448</td>\n",
       "      <td>52.316544</td>\n",
       "      <td>-0.157263</td>\n",
       "      <td>2023-10-06 10:24:00+01:00</td>\n",
       "      <td>2023-10-09 10:25:00+00:00</td>\n",
       "      <td>55.877803</td>\n",
       "      <td>-3.648558</td>\n",
       "    </tr>\n",
       "    <tr>\n",
       "      <th>1</th>\n",
       "      <td>SEZHUK-231217-275004</td>\n",
       "      <td>53.745423</td>\n",
       "      <td>-1.702855</td>\n",
       "      <td>2023-12-20 04:08:00+00:00</td>\n",
       "      <td>2023-12-20 08:56:00+00:00</td>\n",
       "      <td>51.398851</td>\n",
       "      <td>-1.231993</td>\n",
       "    </tr>\n",
       "    <tr>\n",
       "      <th>2</th>\n",
       "      <td>SEZHUK-231210-272018</td>\n",
       "      <td>51.659889</td>\n",
       "      <td>-0.024926</td>\n",
       "      <td>2023-12-14 10:18:00+00:00</td>\n",
       "      <td>2023-12-14 10:43:00+00:00</td>\n",
       "      <td>51.660700</td>\n",
       "      <td>-0.022247</td>\n",
       "    </tr>\n",
       "    <tr>\n",
       "      <th>3</th>\n",
       "      <td>SEZHUK-231211-272127</td>\n",
       "      <td>52.889862</td>\n",
       "      <td>-0.634389</td>\n",
       "      <td>2023-12-13 17:22:00+00:00</td>\n",
       "      <td>2023-12-13 16:00:00+00:00</td>\n",
       "      <td>52.888113</td>\n",
       "      <td>-0.634948</td>\n",
       "    </tr>\n",
       "    <tr>\n",
       "      <th>4</th>\n",
       "      <td>SEZHUK-231025-256168</td>\n",
       "      <td>55.845446</td>\n",
       "      <td>-3.880531</td>\n",
       "      <td>2023-11-08 03:53:00+00:00</td>\n",
       "      <td>2023-11-07 23:59:00+00:00</td>\n",
       "      <td>55.735089</td>\n",
       "      <td>-4.168719</td>\n",
       "    </tr>\n",
       "  </tbody>\n",
       "</table>\n",
       "</div>"
      ],
      "text/plain": [
       "        SHIPMENT_NUMBER        LAT       LON           RECORD_TIMESTAMP  \\\n",
       "0  SEZHUK-231005-250448  52.316544 -0.157263  2023-10-06 10:24:00+01:00   \n",
       "1  SEZHUK-231217-275004  53.745423 -1.702855  2023-12-20 04:08:00+00:00   \n",
       "2  SEZHUK-231210-272018  51.659889 -0.024926  2023-12-14 10:18:00+00:00   \n",
       "3  SEZHUK-231211-272127  52.889862 -0.634389  2023-12-13 17:22:00+00:00   \n",
       "4  SEZHUK-231025-256168  55.845446 -3.880531  2023-11-08 03:53:00+00:00   \n",
       "\n",
       "  LAST_DELIVERY_SCHEDULE_LATEST  LAST_DELIVERY_LATITUDE  \\\n",
       "0     2023-10-09 10:25:00+00:00               55.877803   \n",
       "1     2023-12-20 08:56:00+00:00               51.398851   \n",
       "2     2023-12-14 10:43:00+00:00               51.660700   \n",
       "3     2023-12-13 16:00:00+00:00               52.888113   \n",
       "4     2023-11-07 23:59:00+00:00               55.735089   \n",
       "\n",
       "   LAST_DELIVERY_LONGITUDE  \n",
       "0                -3.648558  \n",
       "1                -1.231993  \n",
       "2                -0.022247  \n",
       "3                -0.634948  \n",
       "4                -4.168719  "
      ]
     },
     "execution_count": 15,
     "metadata": {},
     "output_type": "execute_result"
    }
   ],
   "source": [
    "df_train[['SHIPMENT_NUMBER', 'LAT', 'LON', 'RECORD_TIMESTAMP', 'LAST_DELIVERY_SCHEDULE_LATEST','LAST_DELIVERY_LATITUDE', 'LAST_DELIVERY_LONGITUDE']].head()"
   ]
  },
  {
   "cell_type": "code",
   "execution_count": 16,
   "id": "376d13b2",
   "metadata": {},
   "outputs": [],
   "source": [
    "select_cols = ['SHIPMENT_NUMBER', 'LAT', 'LON', 'LAST_DELIVERY_LATITUDE', 'LAST_DELIVERY_LONGITUDE', 'RECORD_TIMESTAMP', 'LAST_DELIVERY_SCHEDULE_LATEST',]"
   ]
  },
  {
   "cell_type": "code",
   "execution_count": 47,
   "id": "c3ec81a7",
   "metadata": {},
   "outputs": [],
   "source": [
    "df = df_train.copy()"
   ]
  },
  {
   "cell_type": "code",
   "execution_count": 48,
   "id": "41b5b391",
   "metadata": {},
   "outputs": [
    {
     "data": {
      "text/plain": [
       "(Timestamp('2023-10-01 01:46:00+0100', tz='UTC+01:00'),\n",
       " Timestamp('2023-12-30 23:59:00+0000', tz='UTC'))"
      ]
     },
     "execution_count": 48,
     "metadata": {},
     "output_type": "execute_result"
    }
   ],
   "source": [
    "df['RECORD_TIMESTAMP'].min(), df['RECORD_TIMESTAMP'].max()"
   ]
  },
  {
   "cell_type": "markdown",
   "id": "1a3858e4",
   "metadata": {},
   "source": [
    "## 3.4 Postcode Lookup API"
   ]
  },
  {
   "cell_type": "code",
   "execution_count": 49,
   "id": "c9180423",
   "metadata": {},
   "outputs": [
    {
     "data": {
      "text/html": [
       "<div>\n",
       "<style scoped>\n",
       "    .dataframe tbody tr th:only-of-type {\n",
       "        vertical-align: middle;\n",
       "    }\n",
       "\n",
       "    .dataframe tbody tr th {\n",
       "        vertical-align: top;\n",
       "    }\n",
       "\n",
       "    .dataframe thead th {\n",
       "        text-align: right;\n",
       "    }\n",
       "</style>\n",
       "<table border=\"1\" class=\"dataframe\">\n",
       "  <thead>\n",
       "    <tr style=\"text-align: right;\">\n",
       "      <th></th>\n",
       "      <th>LAT</th>\n",
       "      <th>LON</th>\n",
       "      <th>GPS_coord</th>\n",
       "    </tr>\n",
       "  </thead>\n",
       "  <tbody>\n",
       "    <tr>\n",
       "      <th>0</th>\n",
       "      <td>52.316544</td>\n",
       "      <td>-0.157263</td>\n",
       "      <td>[52.31654422, -0.15726316]</td>\n",
       "    </tr>\n",
       "    <tr>\n",
       "      <th>1</th>\n",
       "      <td>53.745423</td>\n",
       "      <td>-1.702855</td>\n",
       "      <td>[53.7454231574671, -1.70285456004236]</td>\n",
       "    </tr>\n",
       "    <tr>\n",
       "      <th>2</th>\n",
       "      <td>51.659889</td>\n",
       "      <td>-0.024926</td>\n",
       "      <td>[51.659889300233104, -0.024926167738865]</td>\n",
       "    </tr>\n",
       "    <tr>\n",
       "      <th>3</th>\n",
       "      <td>52.889862</td>\n",
       "      <td>-0.634389</td>\n",
       "      <td>[52.8898615976303, -0.63438873938486]</td>\n",
       "    </tr>\n",
       "    <tr>\n",
       "      <th>4</th>\n",
       "      <td>55.845446</td>\n",
       "      <td>-3.880531</td>\n",
       "      <td>[55.8454462753676, -3.88053080781484]</td>\n",
       "    </tr>\n",
       "  </tbody>\n",
       "</table>\n",
       "</div>"
      ],
      "text/plain": [
       "         LAT       LON                                 GPS_coord\n",
       "0  52.316544 -0.157263                [52.31654422, -0.15726316]\n",
       "1  53.745423 -1.702855     [53.7454231574671, -1.70285456004236]\n",
       "2  51.659889 -0.024926  [51.659889300233104, -0.024926167738865]\n",
       "3  52.889862 -0.634389     [52.8898615976303, -0.63438873938486]\n",
       "4  55.845446 -3.880531     [55.8454462753676, -3.88053080781484]"
      ]
     },
     "execution_count": 49,
     "metadata": {},
     "output_type": "execute_result"
    }
   ],
   "source": [
    "# combine lon & lat columns into 1 GPS coordinates column\n",
    "\n",
    "df['GPS_coord']=df[['LAT', 'LON']].values.tolist()\n",
    "\n",
    "df[['LAT', 'LON','GPS_coord']].head()"
   ]
  },
  {
   "cell_type": "code",
   "execution_count": 50,
   "id": "22215d91",
   "metadata": {},
   "outputs": [
    {
     "name": "stdout",
     "output_type": "stream",
     "text": [
      "The postcode is: PE29 2XJ\n"
     ]
    }
   ],
   "source": [
    "# test post code lookup function\n",
    "postcode = helper.get_postcode_from_gps(df.iloc[0]['GPS_coord'])\n",
    "print(f\"The postcode is: {postcode}\")"
   ]
  },
  {
   "cell_type": "markdown",
   "id": "c3705e1d",
   "metadata": {},
   "source": [
    "### 3.4.1 Imputation"
   ]
  },
  {
   "cell_type": "code",
   "execution_count": 51,
   "id": "0feac0ed",
   "metadata": {},
   "outputs": [
    {
     "data": {
      "text/html": [
       "<div>\n",
       "<style scoped>\n",
       "    .dataframe tbody tr th:only-of-type {\n",
       "        vertical-align: middle;\n",
       "    }\n",
       "\n",
       "    .dataframe tbody tr th {\n",
       "        vertical-align: top;\n",
       "    }\n",
       "\n",
       "    .dataframe thead th {\n",
       "        text-align: right;\n",
       "    }\n",
       "</style>\n",
       "<table border=\"1\" class=\"dataframe\">\n",
       "  <thead>\n",
       "    <tr style=\"text-align: right;\">\n",
       "      <th></th>\n",
       "      <th>last_delivery_coord</th>\n",
       "      <th>LAST_DELIVERY_POST_CODE</th>\n",
       "    </tr>\n",
       "  </thead>\n",
       "  <tbody>\n",
       "    <tr>\n",
       "      <th>1408</th>\n",
       "      <td>[53.215555, -6.675042]</td>\n",
       "      <td>NaN</td>\n",
       "    </tr>\n",
       "    <tr>\n",
       "      <th>1950</th>\n",
       "      <td>[51.76935, 0.08155]</td>\n",
       "      <td>NaN</td>\n",
       "    </tr>\n",
       "    <tr>\n",
       "      <th>2088</th>\n",
       "      <td>[51.76935, 0.08155]</td>\n",
       "      <td>NaN</td>\n",
       "    </tr>\n",
       "    <tr>\n",
       "      <th>2744</th>\n",
       "      <td>[51.76935, 0.08155]</td>\n",
       "      <td>NaN</td>\n",
       "    </tr>\n",
       "  </tbody>\n",
       "</table>\n",
       "</div>"
      ],
      "text/plain": [
       "         last_delivery_coord LAST_DELIVERY_POST_CODE\n",
       "1408  [53.215555, -6.675042]                     NaN\n",
       "1950     [51.76935, 0.08155]                     NaN\n",
       "2088     [51.76935, 0.08155]                     NaN\n",
       "2744     [51.76935, 0.08155]                     NaN"
      ]
     },
     "execution_count": 51,
     "metadata": {},
     "output_type": "execute_result"
    }
   ],
   "source": [
    "# Impute missing values in LAST_DELIVERY_POST_CODE\n",
    "\n",
    "df['last_delivery_coord']=df[['LAST_DELIVERY_LATITUDE', 'LAST_DELIVERY_LONGITUDE']].values.tolist() # combine the GPS coordinates\n",
    "df[df['LAST_DELIVERY_POST_CODE'].isna()][['last_delivery_coord', 'LAST_DELIVERY_POST_CODE']] # inspect missing postcodes"
   ]
  },
  {
   "cell_type": "code",
   "execution_count": 52,
   "id": "24b4e0f7",
   "metadata": {},
   "outputs": [
    {
     "data": {
      "text/html": [
       "<div>\n",
       "<style scoped>\n",
       "    .dataframe tbody tr th:only-of-type {\n",
       "        vertical-align: middle;\n",
       "    }\n",
       "\n",
       "    .dataframe tbody tr th {\n",
       "        vertical-align: top;\n",
       "    }\n",
       "\n",
       "    .dataframe thead th {\n",
       "        text-align: right;\n",
       "    }\n",
       "</style>\n",
       "<table border=\"1\" class=\"dataframe\">\n",
       "  <thead>\n",
       "    <tr style=\"text-align: right;\">\n",
       "      <th></th>\n",
       "      <th>last_delivery_coord</th>\n",
       "      <th>last_delivery_postcode</th>\n",
       "    </tr>\n",
       "  </thead>\n",
       "  <tbody>\n",
       "    <tr>\n",
       "      <th>1408</th>\n",
       "      <td>[53.215555, -6.675042]</td>\n",
       "      <td>No postcode found for the given coordinates.</td>\n",
       "    </tr>\n",
       "    <tr>\n",
       "      <th>1950</th>\n",
       "      <td>[51.76935, 0.08155]</td>\n",
       "      <td>No postcode found for the given coordinates.</td>\n",
       "    </tr>\n",
       "    <tr>\n",
       "      <th>2088</th>\n",
       "      <td>[51.76935, 0.08155]</td>\n",
       "      <td>No postcode found for the given coordinates.</td>\n",
       "    </tr>\n",
       "    <tr>\n",
       "      <th>2744</th>\n",
       "      <td>[51.76935, 0.08155]</td>\n",
       "      <td>No postcode found for the given coordinates.</td>\n",
       "    </tr>\n",
       "  </tbody>\n",
       "</table>\n",
       "</div>"
      ],
      "text/plain": [
       "         last_delivery_coord                        last_delivery_postcode\n",
       "1408  [53.215555, -6.675042]  No postcode found for the given coordinates.\n",
       "1950     [51.76935, 0.08155]  No postcode found for the given coordinates.\n",
       "2088     [51.76935, 0.08155]  No postcode found for the given coordinates.\n",
       "2744     [51.76935, 0.08155]  No postcode found for the given coordinates."
      ]
     },
     "execution_count": 52,
     "metadata": {},
     "output_type": "execute_result"
    }
   ],
   "source": [
    "df_missing_pc = pd.DataFrame(df[df['LAST_DELIVERY_POST_CODE'].isna()]['last_delivery_coord']) # create dataframe with only missing postcodes\n",
    "df_missing_pc['last_delivery_postcode']=df_missing_pc['last_delivery_coord'].apply(helper.get_postcode_from_gps) # apply function to convert coodinates to postcode\n",
    "df_missing_pc"
   ]
  },
  {
   "cell_type": "markdown",
   "id": "f12be44d",
   "metadata": {},
   "source": [
    "__Finding__\n",
    "\n",
    "* No postcode found for the given coordinates"
   ]
  },
  {
   "cell_type": "code",
   "execution_count": 53,
   "id": "c15aefcc",
   "metadata": {},
   "outputs": [
    {
     "data": {
      "text/plain": [
       "(3241, 20)"
      ]
     },
     "execution_count": 53,
     "metadata": {},
     "output_type": "execute_result"
    }
   ],
   "source": [
    "# delete rows that contain missing LAST_DELIVERY_POST_CODE\n",
    "df=df.dropna(subset=['LAST_DELIVERY_POST_CODE'])\n",
    "df.shape"
   ]
  },
  {
   "cell_type": "markdown",
   "id": "ee7822ec",
   "metadata": {},
   "source": [
    "### 3.4.2 Convert to Postcode Using Function"
   ]
  },
  {
   "cell_type": "code",
   "execution_count": 54,
   "id": "35fff92e",
   "metadata": {},
   "outputs": [],
   "source": [
    "df['POSTCODE'] = df['GPS_coord'].apply(helper.get_postcode_from_gps)"
   ]
  },
  {
   "cell_type": "code",
   "execution_count": 55,
   "id": "b84fac42",
   "metadata": {},
   "outputs": [
    {
     "data": {
      "text/plain": [
       "1424"
      ]
     },
     "execution_count": 55,
     "metadata": {},
     "output_type": "execute_result"
    }
   ],
   "source": [
    "# check how many postcodes are found\n",
    "df[df['POSTCODE']!='No postcode found for the given coordinates.'].shape[0]"
   ]
  },
  {
   "cell_type": "code",
   "execution_count": 56,
   "id": "6053b790",
   "metadata": {},
   "outputs": [
    {
     "name": "stdout",
     "output_type": "stream",
     "text": [
      "495\n",
      "0.1527306386917618\n"
     ]
    }
   ],
   "source": [
    "# check number of shipments & % that reached destination\n",
    "print(df[df['POSTCODE']==df['LAST_DELIVERY_POST_CODE']].shape[0])\n",
    "print(df[df['POSTCODE']==df['LAST_DELIVERY_POST_CODE']].shape[0]/df.shape[0])"
   ]
  },
  {
   "cell_type": "code",
   "execution_count": 57,
   "id": "8bb8507d",
   "metadata": {},
   "outputs": [
    {
     "data": {
      "text/plain": [
       "reached_delivery_loc\n",
       "0    2746\n",
       "1     495\n",
       "Name: count, dtype: int64"
      ]
     },
     "execution_count": 57,
     "metadata": {},
     "output_type": "execute_result"
    }
   ],
   "source": [
    "df['reached_delivery_loc']= np.where(df['POSTCODE']==df['LAST_DELIVERY_POST_CODE'], 1, 0)\n",
    "df['reached_delivery_loc'].value_counts()"
   ]
  },
  {
   "cell_type": "code",
   "execution_count": 58,
   "id": "9438dab7",
   "metadata": {},
   "outputs": [
    {
     "data": {
      "image/png": "[encoded data removed]",
      "text/plain": [
       "<Figure size 1000x500 with 1 Axes>"
      ]
     },
     "metadata": {},
     "output_type": "display_data"
    }
   ],
   "source": [
    "# Distribution Plot of Carriers that Reached Delivery Location\n",
    "helper.plot_class_distribution('reached_delivery_loc', df, 'Reached Destination', [0, 1], ['No', 'Yes'])"
   ]
  },
  {
   "cell_type": "markdown",
   "id": "21206d42",
   "metadata": {},
   "source": [
    "__Observation__\n",
    "* Only 15.3% of shipments reach their destination"
   ]
  },
  {
   "cell_type": "code",
   "execution_count": 59,
   "id": "5ccf0193",
   "metadata": {},
   "outputs": [
    {
     "data": {
      "text/html": [
       "<div>\n",
       "<style scoped>\n",
       "    .dataframe tbody tr th:only-of-type {\n",
       "        vertical-align: middle;\n",
       "    }\n",
       "\n",
       "    .dataframe tbody tr th {\n",
       "        vertical-align: top;\n",
       "    }\n",
       "\n",
       "    .dataframe thead th {\n",
       "        text-align: right;\n",
       "    }\n",
       "</style>\n",
       "<table border=\"1\" class=\"dataframe\">\n",
       "  <thead>\n",
       "    <tr style=\"text-align: right;\">\n",
       "      <th></th>\n",
       "      <th>LAT</th>\n",
       "      <th>LON</th>\n",
       "      <th>LAST_DELIVERY_LATITUDE</th>\n",
       "      <th>LAST_DELIVERY_LONGITUDE</th>\n",
       "      <th>POSTCODE</th>\n",
       "      <th>LAST_DELIVERY_POST_CODE</th>\n",
       "    </tr>\n",
       "  </thead>\n",
       "  <tbody>\n",
       "    <tr>\n",
       "      <th>0</th>\n",
       "      <td>52.316544</td>\n",
       "      <td>-0.157263</td>\n",
       "      <td>55.877803</td>\n",
       "      <td>-3.648558</td>\n",
       "      <td>PE29 2XJ</td>\n",
       "      <td>EH48 2FB</td>\n",
       "    </tr>\n",
       "    <tr>\n",
       "      <th>5</th>\n",
       "      <td>52.479792</td>\n",
       "      <td>-1.974671</td>\n",
       "      <td>52.829374</td>\n",
       "      <td>-1.332134</td>\n",
       "      <td>B67 5QS</td>\n",
       "      <td>DE74 2TR</td>\n",
       "    </tr>\n",
       "    <tr>\n",
       "      <th>10</th>\n",
       "      <td>52.240277</td>\n",
       "      <td>0.717603</td>\n",
       "      <td>52.236599</td>\n",
       "      <td>0.717008</td>\n",
       "      <td>IP33 2AD</td>\n",
       "      <td>IP33 2JG</td>\n",
       "    </tr>\n",
       "    <tr>\n",
       "      <th>14</th>\n",
       "      <td>53.794882</td>\n",
       "      <td>-1.762643</td>\n",
       "      <td>52.641456</td>\n",
       "      <td>-1.216005</td>\n",
       "      <td>BD1 2HS</td>\n",
       "      <td>LE3 8DX</td>\n",
       "    </tr>\n",
       "    <tr>\n",
       "      <th>15</th>\n",
       "      <td>51.126472</td>\n",
       "      <td>-2.742023</td>\n",
       "      <td>53.534344</td>\n",
       "      <td>-1.035929</td>\n",
       "      <td>BA16 0EW</td>\n",
       "      <td>DN3 3FQ</td>\n",
       "    </tr>\n",
       "    <tr>\n",
       "      <th>16</th>\n",
       "      <td>51.662387</td>\n",
       "      <td>-0.024415</td>\n",
       "      <td>51.659325</td>\n",
       "      <td>-0.021793</td>\n",
       "      <td>EN3 7RG</td>\n",
       "      <td>EN3 7QP</td>\n",
       "    </tr>\n",
       "    <tr>\n",
       "      <th>21</th>\n",
       "      <td>51.745884</td>\n",
       "      <td>-0.223657</td>\n",
       "      <td>51.771839</td>\n",
       "      <td>-0.439712</td>\n",
       "      <td>AL10 8UP</td>\n",
       "      <td>HP2 7PZ</td>\n",
       "    </tr>\n",
       "    <tr>\n",
       "      <th>23</th>\n",
       "      <td>52.871596</td>\n",
       "      <td>-1.493740</td>\n",
       "      <td>52.106487</td>\n",
       "      <td>1.098275</td>\n",
       "      <td>DE24 3DR</td>\n",
       "      <td>IP6 0JW</td>\n",
       "    </tr>\n",
       "    <tr>\n",
       "      <th>24</th>\n",
       "      <td>53.178576</td>\n",
       "      <td>-1.041729</td>\n",
       "      <td>53.295391</td>\n",
       "      <td>-1.066283</td>\n",
       "      <td>NG22 9DD</td>\n",
       "      <td>S80 3EG</td>\n",
       "    </tr>\n",
       "    <tr>\n",
       "      <th>28</th>\n",
       "      <td>52.588214</td>\n",
       "      <td>-2.074503</td>\n",
       "      <td>52.371658</td>\n",
       "      <td>-1.452326</td>\n",
       "      <td>WV13 3BL</td>\n",
       "      <td>CV8 3ED</td>\n",
       "    </tr>\n",
       "    <tr>\n",
       "      <th>33</th>\n",
       "      <td>51.527618</td>\n",
       "      <td>-0.266028</td>\n",
       "      <td>51.526489</td>\n",
       "      <td>-0.266374</td>\n",
       "      <td>NW10 6HA</td>\n",
       "      <td>NW10 7LQ</td>\n",
       "    </tr>\n",
       "    <tr>\n",
       "      <th>37</th>\n",
       "      <td>51.500262</td>\n",
       "      <td>-2.700101</td>\n",
       "      <td>51.459807</td>\n",
       "      <td>-3.195345</td>\n",
       "      <td>BS11 9AA</td>\n",
       "      <td>CF11 8TS</td>\n",
       "    </tr>\n",
       "    <tr>\n",
       "      <th>43</th>\n",
       "      <td>51.175400</td>\n",
       "      <td>-1.756760</td>\n",
       "      <td>51.175340</td>\n",
       "      <td>-1.753679</td>\n",
       "      <td>SP4 7GR</td>\n",
       "      <td>SP4 7GQ</td>\n",
       "    </tr>\n",
       "    <tr>\n",
       "      <th>55</th>\n",
       "      <td>50.939953</td>\n",
       "      <td>-1.477974</td>\n",
       "      <td>50.941738</td>\n",
       "      <td>-1.478680</td>\n",
       "      <td>SO16 0AF</td>\n",
       "      <td>SO16 0WB</td>\n",
       "    </tr>\n",
       "    <tr>\n",
       "      <th>59</th>\n",
       "      <td>51.500290</td>\n",
       "      <td>-2.700319</td>\n",
       "      <td>52.849282</td>\n",
       "      <td>-1.354253</td>\n",
       "      <td>BS11 9AD</td>\n",
       "      <td>DE74 2HL</td>\n",
       "    </tr>\n",
       "    <tr>\n",
       "      <th>60</th>\n",
       "      <td>50.866322</td>\n",
       "      <td>-0.125417</td>\n",
       "      <td>50.869060</td>\n",
       "      <td>-0.122050</td>\n",
       "      <td>BN1 8AT</td>\n",
       "      <td>BN1 8AF</td>\n",
       "    </tr>\n",
       "    <tr>\n",
       "      <th>64</th>\n",
       "      <td>52.929430</td>\n",
       "      <td>-1.523235</td>\n",
       "      <td>53.258602</td>\n",
       "      <td>-1.320728</td>\n",
       "      <td>DE22 4ED</td>\n",
       "      <td>S43 3FG</td>\n",
       "    </tr>\n",
       "    <tr>\n",
       "      <th>69</th>\n",
       "      <td>51.661907</td>\n",
       "      <td>-0.026653</td>\n",
       "      <td>51.659325</td>\n",
       "      <td>-0.021793</td>\n",
       "      <td>EN3 7NE</td>\n",
       "      <td>EN3 7QP</td>\n",
       "    </tr>\n",
       "    <tr>\n",
       "      <th>71</th>\n",
       "      <td>53.734778</td>\n",
       "      <td>-1.612248</td>\n",
       "      <td>53.711994</td>\n",
       "      <td>-1.633176</td>\n",
       "      <td>LS27 0BH</td>\n",
       "      <td>WF17 5JE</td>\n",
       "    </tr>\n",
       "    <tr>\n",
       "      <th>72</th>\n",
       "      <td>52.129432</td>\n",
       "      <td>-1.002753</td>\n",
       "      <td>51.398689</td>\n",
       "      <td>-1.232386</td>\n",
       "      <td>NN12 6YF</td>\n",
       "      <td>RG19 4BQ</td>\n",
       "    </tr>\n",
       "  </tbody>\n",
       "</table>\n",
       "</div>"
      ],
      "text/plain": [
       "          LAT       LON  LAST_DELIVERY_LATITUDE  LAST_DELIVERY_LONGITUDE  \\\n",
       "0   52.316544 -0.157263               55.877803                -3.648558   \n",
       "5   52.479792 -1.974671               52.829374                -1.332134   \n",
       "10  52.240277  0.717603               52.236599                 0.717008   \n",
       "14  53.794882 -1.762643               52.641456                -1.216005   \n",
       "15  51.126472 -2.742023               53.534344                -1.035929   \n",
       "16  51.662387 -0.024415               51.659325                -0.021793   \n",
       "21  51.745884 -0.223657               51.771839                -0.439712   \n",
       "23  52.871596 -1.493740               52.106487                 1.098275   \n",
       "24  53.178576 -1.041729               53.295391                -1.066283   \n",
       "28  52.588214 -2.074503               52.371658                -1.452326   \n",
       "33  51.527618 -0.266028               51.526489                -0.266374   \n",
       "37  51.500262 -2.700101               51.459807                -3.195345   \n",
       "43  51.175400 -1.756760               51.175340                -1.753679   \n",
       "55  50.939953 -1.477974               50.941738                -1.478680   \n",
       "59  51.500290 -2.700319               52.849282                -1.354253   \n",
       "60  50.866322 -0.125417               50.869060                -0.122050   \n",
       "64  52.929430 -1.523235               53.258602                -1.320728   \n",
       "69  51.661907 -0.026653               51.659325                -0.021793   \n",
       "71  53.734778 -1.612248               53.711994                -1.633176   \n",
       "72  52.129432 -1.002753               51.398689                -1.232386   \n",
       "\n",
       "    POSTCODE LAST_DELIVERY_POST_CODE  \n",
       "0   PE29 2XJ                EH48 2FB  \n",
       "5    B67 5QS                DE74 2TR  \n",
       "10  IP33 2AD                IP33 2JG  \n",
       "14   BD1 2HS                 LE3 8DX  \n",
       "15  BA16 0EW                 DN3 3FQ  \n",
       "16   EN3 7RG                 EN3 7QP  \n",
       "21  AL10 8UP                 HP2 7PZ  \n",
       "23  DE24 3DR                 IP6 0JW  \n",
       "24  NG22 9DD                 S80 3EG  \n",
       "28  WV13 3BL                 CV8 3ED  \n",
       "33  NW10 6HA                NW10 7LQ  \n",
       "37  BS11 9AA                CF11 8TS  \n",
       "43   SP4 7GR                 SP4 7GQ  \n",
       "55  SO16 0AF                SO16 0WB  \n",
       "59  BS11 9AD                DE74 2HL  \n",
       "60   BN1 8AT                 BN1 8AF  \n",
       "64  DE22 4ED                 S43 3FG  \n",
       "69   EN3 7NE                 EN3 7QP  \n",
       "71  LS27 0BH                WF17 5JE  \n",
       "72  NN12 6YF                RG19 4BQ  "
      ]
     },
     "execution_count": 59,
     "metadata": {},
     "output_type": "execute_result"
    }
   ],
   "source": [
    "## look for matches that are not exact but close enough\n",
    "df[(df['POSTCODE']!='No postcode found for the given coordinates.')&(df['POSTCODE']!=df['LAST_DELIVERY_POST_CODE'])][['LAT', 'LON','LAST_DELIVERY_LATITUDE', 'LAST_DELIVERY_LONGITUDE','POSTCODE', 'LAST_DELIVERY_POST_CODE']].head(20)"
   ]
  },
  {
   "cell_type": "markdown",
   "id": "bc01bf5c",
   "metadata": {},
   "source": [
    "__Findings__\n",
    "* row 43's GPS postcode SP4 7GR matches the delivery postcode  SP4 7GQ (except the last character)\n",
    "* similarly, the difference in lattitudes & longitudes are very close# \n",
    "* hence, we can potentially use this rule as a match instread of an exact match"
   ]
  },
  {
   "cell_type": "code",
   "execution_count": 60,
   "id": "27de2e6f",
   "metadata": {},
   "outputs": [
    {
     "data": {
      "text/plain": [
       "almost_reached_delivery_loc\n",
       "0    2656\n",
       "1     585\n",
       "Name: count, dtype: int64"
      ]
     },
     "execution_count": 60,
     "metadata": {},
     "output_type": "execute_result"
    }
   ],
   "source": [
    "# re-define reaching delivery location by close match instead of exact match\n",
    "df['almost_reached_delivery_loc']= np.where(df['POSTCODE'].str[:-1]==df['LAST_DELIVERY_POST_CODE'].str[:-1], 1, 0)\n",
    "df['almost_reached_delivery_loc'].value_counts()"
   ]
  },
  {
   "cell_type": "code",
   "execution_count": 63,
   "id": "f048ffb1",
   "metadata": {},
   "outputs": [
    {
     "data": {
      "image/png": "[encoded data removed]",
      "text/plain": [
       "<Figure size 700x500 with 1 Axes>"
      ]
     },
     "metadata": {},
     "output_type": "display_data"
    }
   ],
   "source": [
    "# Distribution Plot of Carriers that almost Reached Delivery Location\n",
    "helper.plot_class_distribution('almost_reached_delivery_loc', df, 'Reached Destination', [0, 1], ['No', 'Yes'])"
   ]
  },
  {
   "cell_type": "markdown",
   "id": "1cd1a096",
   "metadata": {},
   "source": [
    "# 4. Identify On Time Shipment "
   ]
  },
  {
   "cell_type": "markdown",
   "id": "7a33053f",
   "metadata": {},
   "source": [
    "### 4.1 Exact Postcode Match"
   ]
  },
  {
   "cell_type": "code",
   "execution_count": 64,
   "id": "810fe294",
   "metadata": {},
   "outputs": [],
   "source": [
    "# find shipment that's on time by checking that it reaches its destination based on exact postcode match\n",
    "# no later than 30 minutes after its latest scheduled delivery time\n",
    "\n",
    "df['on_time'] = np.where((df['reached_delivery_loc']==1)&(df['RECORD_TIMESTAMP']<=(df['LAST_DELIVERY_SCHEDULE_LATEST'] + timedelta(minutes=30))), 1, 0)"
   ]
  },
  {
   "cell_type": "markdown",
   "id": "050446e8",
   "metadata": {},
   "source": [
    "### 4.2 Close Postcode Match"
   ]
  },
  {
   "cell_type": "code",
   "execution_count": 65,
   "id": "75bdf52d",
   "metadata": {},
   "outputs": [],
   "source": [
    "# find shipment that's on time by checking that it reaches its destination \n",
    "# no later than 30 minutes after its latest scheduled delivery time\n",
    "# based on close postcode match where only the last character doesn't match\n",
    "\n",
    "df['almost_on_time'] = np.where((df['almost_reached_delivery_loc']==1)&(df['RECORD_TIMESTAMP']<=(df['LAST_DELIVERY_SCHEDULE_LATEST'] + timedelta(minutes=30))), 1, 0)"
   ]
  },
  {
   "cell_type": "code",
   "execution_count": 66,
   "id": "2e750f7b",
   "metadata": {},
   "outputs": [
    {
     "data": {
      "text/html": [
       "<div>\n",
       "<style scoped>\n",
       "    .dataframe tbody tr th:only-of-type {\n",
       "        vertical-align: middle;\n",
       "    }\n",
       "\n",
       "    .dataframe tbody tr th {\n",
       "        vertical-align: top;\n",
       "    }\n",
       "\n",
       "    .dataframe thead th {\n",
       "        text-align: right;\n",
       "    }\n",
       "</style>\n",
       "<table border=\"1\" class=\"dataframe\">\n",
       "  <thead>\n",
       "    <tr style=\"text-align: right;\">\n",
       "      <th></th>\n",
       "      <th>POSTCODE</th>\n",
       "      <th>RECORD_TIMESTAMP</th>\n",
       "      <th>LAST_DELIVERY_POST_CODE</th>\n",
       "      <th>LAST_DELIVERY_SCHEDULE_LATEST</th>\n",
       "    </tr>\n",
       "  </thead>\n",
       "  <tbody>\n",
       "    <tr>\n",
       "      <th>7</th>\n",
       "      <td>LS27 0FU</td>\n",
       "      <td>2023-12-09 04:23:00+00:00</td>\n",
       "      <td>LS27 0FU</td>\n",
       "      <td>2023-12-09 05:30:00+00:00</td>\n",
       "    </tr>\n",
       "    <tr>\n",
       "      <th>36</th>\n",
       "      <td>RM19 1ND</td>\n",
       "      <td>2023-12-16 15:26:00+00:00</td>\n",
       "      <td>RM19 1ND</td>\n",
       "      <td>2023-12-16 15:00:00+00:00</td>\n",
       "    </tr>\n",
       "    <tr>\n",
       "      <th>41</th>\n",
       "      <td>RG19 4BQ</td>\n",
       "      <td>2023-11-30 10:06:00+00:00</td>\n",
       "      <td>RG19 4BQ</td>\n",
       "      <td>2023-11-30 10:33:01+00:00</td>\n",
       "    </tr>\n",
       "    <tr>\n",
       "      <th>54</th>\n",
       "      <td>HP5 1QJ</td>\n",
       "      <td>2023-10-05 11:00:00+01:00</td>\n",
       "      <td>HP5 1QJ</td>\n",
       "      <td>2023-10-05 11:59:00+00:00</td>\n",
       "    </tr>\n",
       "    <tr>\n",
       "      <th>58</th>\n",
       "      <td>RG19 4BQ</td>\n",
       "      <td>2023-11-08 23:49:00+00:00</td>\n",
       "      <td>RG19 4BQ</td>\n",
       "      <td>2023-11-09 02:30:00+00:00</td>\n",
       "    </tr>\n",
       "    <tr>\n",
       "      <th>...</th>\n",
       "      <td>...</td>\n",
       "      <td>...</td>\n",
       "      <td>...</td>\n",
       "      <td>...</td>\n",
       "    </tr>\n",
       "    <tr>\n",
       "      <th>3193</th>\n",
       "      <td>B66 2LF</td>\n",
       "      <td>2023-11-01 13:48:00+00:00</td>\n",
       "      <td>B66 2LF</td>\n",
       "      <td>2023-11-01 14:00:00+00:00</td>\n",
       "    </tr>\n",
       "    <tr>\n",
       "      <th>3217</th>\n",
       "      <td>ME13 7TW</td>\n",
       "      <td>2023-12-08 09:55:00+00:00</td>\n",
       "      <td>ME13 7TW</td>\n",
       "      <td>2023-12-08 10:51:01+00:00</td>\n",
       "    </tr>\n",
       "    <tr>\n",
       "      <th>3223</th>\n",
       "      <td>BT36 7LQ</td>\n",
       "      <td>2023-10-13 10:37:00+01:00</td>\n",
       "      <td>BT36 7LQ</td>\n",
       "      <td>2023-10-13 10:00:00+00:00</td>\n",
       "    </tr>\n",
       "    <tr>\n",
       "      <th>3230</th>\n",
       "      <td>CW1 6FB</td>\n",
       "      <td>2023-11-06 19:35:00+00:00</td>\n",
       "      <td>CW1 6FB</td>\n",
       "      <td>2023-11-07 19:30:00+00:00</td>\n",
       "    </tr>\n",
       "    <tr>\n",
       "      <th>3243</th>\n",
       "      <td>HP2 7PZ</td>\n",
       "      <td>2023-11-19 07:36:00+00:00</td>\n",
       "      <td>HP2 7PZ</td>\n",
       "      <td>2023-11-19 07:56:01+00:00</td>\n",
       "    </tr>\n",
       "  </tbody>\n",
       "</table>\n",
       "<p>379 rows × 4 columns</p>\n",
       "</div>"
      ],
      "text/plain": [
       "      POSTCODE           RECORD_TIMESTAMP LAST_DELIVERY_POST_CODE  \\\n",
       "7     LS27 0FU  2023-12-09 04:23:00+00:00                LS27 0FU   \n",
       "36    RM19 1ND  2023-12-16 15:26:00+00:00                RM19 1ND   \n",
       "41    RG19 4BQ  2023-11-30 10:06:00+00:00                RG19 4BQ   \n",
       "54     HP5 1QJ  2023-10-05 11:00:00+01:00                 HP5 1QJ   \n",
       "58    RG19 4BQ  2023-11-08 23:49:00+00:00                RG19 4BQ   \n",
       "...        ...                        ...                     ...   \n",
       "3193   B66 2LF  2023-11-01 13:48:00+00:00                 B66 2LF   \n",
       "3217  ME13 7TW  2023-12-08 09:55:00+00:00                ME13 7TW   \n",
       "3223  BT36 7LQ  2023-10-13 10:37:00+01:00                BT36 7LQ   \n",
       "3230   CW1 6FB  2023-11-06 19:35:00+00:00                 CW1 6FB   \n",
       "3243   HP2 7PZ  2023-11-19 07:36:00+00:00                 HP2 7PZ   \n",
       "\n",
       "     LAST_DELIVERY_SCHEDULE_LATEST  \n",
       "7        2023-12-09 05:30:00+00:00  \n",
       "36       2023-12-16 15:00:00+00:00  \n",
       "41       2023-11-30 10:33:01+00:00  \n",
       "54       2023-10-05 11:59:00+00:00  \n",
       "58       2023-11-09 02:30:00+00:00  \n",
       "...                            ...  \n",
       "3193     2023-11-01 14:00:00+00:00  \n",
       "3217     2023-12-08 10:51:01+00:00  \n",
       "3223     2023-10-13 10:00:00+00:00  \n",
       "3230     2023-11-07 19:30:00+00:00  \n",
       "3243     2023-11-19 07:56:01+00:00  \n",
       "\n",
       "[379 rows x 4 columns]"
      ]
     },
     "execution_count": 66,
     "metadata": {},
     "output_type": "execute_result"
    }
   ],
   "source": [
    "# inspect shipments that were on time\n",
    "df[df['on_time']==1][['POSTCODE', 'RECORD_TIMESTAMP', 'LAST_DELIVERY_POST_CODE', 'LAST_DELIVERY_SCHEDULE_LATEST']]"
   ]
  },
  {
   "cell_type": "code",
   "execution_count": 67,
   "id": "890b09ce",
   "metadata": {},
   "outputs": [
    {
     "data": {
      "text/plain": [
       "444"
      ]
     },
     "execution_count": 67,
     "metadata": {},
     "output_type": "execute_result"
    }
   ],
   "source": [
    "df[(df['almost_on_time']==1)].shape[0]"
   ]
  },
  {
   "cell_type": "code",
   "execution_count": 68,
   "id": "67632571",
   "metadata": {},
   "outputs": [
    {
     "data": {
      "text/html": [
       "<div>\n",
       "<style scoped>\n",
       "    .dataframe tbody tr th:only-of-type {\n",
       "        vertical-align: middle;\n",
       "    }\n",
       "\n",
       "    .dataframe tbody tr th {\n",
       "        vertical-align: top;\n",
       "    }\n",
       "\n",
       "    .dataframe thead th {\n",
       "        text-align: right;\n",
       "    }\n",
       "</style>\n",
       "<table border=\"1\" class=\"dataframe\">\n",
       "  <thead>\n",
       "    <tr style=\"text-align: right;\">\n",
       "      <th></th>\n",
       "      <th>POSTCODE</th>\n",
       "      <th>RECORD_TIMESTAMP</th>\n",
       "      <th>LAST_DELIVERY_POST_CODE</th>\n",
       "      <th>LAST_DELIVERY_SCHEDULE_LATEST</th>\n",
       "    </tr>\n",
       "  </thead>\n",
       "  <tbody>\n",
       "    <tr>\n",
       "      <th>43</th>\n",
       "      <td>SP4 7GR</td>\n",
       "      <td>2023-12-30 12:54:00+00:00</td>\n",
       "      <td>SP4 7GQ</td>\n",
       "      <td>2023-12-30 13:25:00+00:00</td>\n",
       "    </tr>\n",
       "    <tr>\n",
       "      <th>60</th>\n",
       "      <td>BN1 8AT</td>\n",
       "      <td>2023-10-17 13:40:00+01:00</td>\n",
       "      <td>BN1 8AF</td>\n",
       "      <td>2023-10-17 16:00:00+00:00</td>\n",
       "    </tr>\n",
       "    <tr>\n",
       "      <th>200</th>\n",
       "      <td>S35 2PT</td>\n",
       "      <td>2023-10-02 19:28:00+01:00</td>\n",
       "      <td>S35 2PW</td>\n",
       "      <td>2023-10-02 20:42:01+00:00</td>\n",
       "    </tr>\n",
       "    <tr>\n",
       "      <th>278</th>\n",
       "      <td>ME13 7TZ</td>\n",
       "      <td>2023-12-01 03:23:00+00:00</td>\n",
       "      <td>ME13 7TW</td>\n",
       "      <td>2023-12-01 09:41:01+00:00</td>\n",
       "    </tr>\n",
       "    <tr>\n",
       "      <th>308</th>\n",
       "      <td>PA4 8DS</td>\n",
       "      <td>2023-10-03 08:34:00+01:00</td>\n",
       "      <td>PA4 8DJ</td>\n",
       "      <td>2023-10-03 08:00:00+00:00</td>\n",
       "    </tr>\n",
       "    <tr>\n",
       "      <th>...</th>\n",
       "      <td>...</td>\n",
       "      <td>...</td>\n",
       "      <td>...</td>\n",
       "      <td>...</td>\n",
       "    </tr>\n",
       "    <tr>\n",
       "      <th>3075</th>\n",
       "      <td>LE19 1WX</td>\n",
       "      <td>2023-11-22 15:27:00+00:00</td>\n",
       "      <td>LE19 1WY</td>\n",
       "      <td>2023-11-22 17:00:00+00:00</td>\n",
       "    </tr>\n",
       "    <tr>\n",
       "      <th>3083</th>\n",
       "      <td>BS35 3UU</td>\n",
       "      <td>2023-12-18 10:05:00+00:00</td>\n",
       "      <td>BS35 3UT</td>\n",
       "      <td>2023-12-18 12:22:00+00:00</td>\n",
       "    </tr>\n",
       "    <tr>\n",
       "      <th>3102</th>\n",
       "      <td>PL12 6LU</td>\n",
       "      <td>2023-10-05 05:59:00+01:00</td>\n",
       "      <td>PL12 6LX</td>\n",
       "      <td>2023-10-05 06:30:00+00:00</td>\n",
       "    </tr>\n",
       "    <tr>\n",
       "      <th>3141</th>\n",
       "      <td>EN11 0EW</td>\n",
       "      <td>2023-10-23 11:22:00+01:00</td>\n",
       "      <td>EN11 0EZ</td>\n",
       "      <td>2023-10-23 10:25:00+00:00</td>\n",
       "    </tr>\n",
       "    <tr>\n",
       "      <th>3208</th>\n",
       "      <td>B8 1AF</td>\n",
       "      <td>2023-12-06 12:24:00+00:00</td>\n",
       "      <td>B8 1AE</td>\n",
       "      <td>2023-12-06 14:00:00+00:00</td>\n",
       "    </tr>\n",
       "  </tbody>\n",
       "</table>\n",
       "<p>65 rows × 4 columns</p>\n",
       "</div>"
      ],
      "text/plain": [
       "      POSTCODE           RECORD_TIMESTAMP LAST_DELIVERY_POST_CODE  \\\n",
       "43     SP4 7GR  2023-12-30 12:54:00+00:00                 SP4 7GQ   \n",
       "60     BN1 8AT  2023-10-17 13:40:00+01:00                 BN1 8AF   \n",
       "200    S35 2PT  2023-10-02 19:28:00+01:00                 S35 2PW   \n",
       "278   ME13 7TZ  2023-12-01 03:23:00+00:00                ME13 7TW   \n",
       "308    PA4 8DS  2023-10-03 08:34:00+01:00                 PA4 8DJ   \n",
       "...        ...                        ...                     ...   \n",
       "3075  LE19 1WX  2023-11-22 15:27:00+00:00                LE19 1WY   \n",
       "3083  BS35 3UU  2023-12-18 10:05:00+00:00                BS35 3UT   \n",
       "3102  PL12 6LU  2023-10-05 05:59:00+01:00                PL12 6LX   \n",
       "3141  EN11 0EW  2023-10-23 11:22:00+01:00                EN11 0EZ   \n",
       "3208    B8 1AF  2023-12-06 12:24:00+00:00                  B8 1AE   \n",
       "\n",
       "     LAST_DELIVERY_SCHEDULE_LATEST  \n",
       "43       2023-12-30 13:25:00+00:00  \n",
       "60       2023-10-17 16:00:00+00:00  \n",
       "200      2023-10-02 20:42:01+00:00  \n",
       "278      2023-12-01 09:41:01+00:00  \n",
       "308      2023-10-03 08:00:00+00:00  \n",
       "...                            ...  \n",
       "3075     2023-11-22 17:00:00+00:00  \n",
       "3083     2023-12-18 12:22:00+00:00  \n",
       "3102     2023-10-05 06:30:00+00:00  \n",
       "3141     2023-10-23 10:25:00+00:00  \n",
       "3208     2023-12-06 14:00:00+00:00  \n",
       "\n",
       "[65 rows x 4 columns]"
      ]
     },
     "execution_count": 68,
     "metadata": {},
     "output_type": "execute_result"
    }
   ],
   "source": [
    "df[(df['almost_on_time']==1)&(df['on_time']==0)][['POSTCODE', 'RECORD_TIMESTAMP', 'LAST_DELIVERY_POST_CODE', 'LAST_DELIVERY_SCHEDULE_LATEST']]"
   ]
  },
  {
   "cell_type": "code",
   "execution_count": 69,
   "id": "945edd1d",
   "metadata": {},
   "outputs": [
    {
     "name": "stdout",
     "output_type": "stream",
     "text": [
      "Percentage of on time delivery based on exact match: 11.693921629126812 %\n"
     ]
    }
   ],
   "source": [
    "print('Percentage of on time delivery based on exact match:' , (df[df['on_time']==1].shape[0]/df.shape[0])*100, '%')"
   ]
  },
  {
   "cell_type": "code",
   "execution_count": 70,
   "id": "baafca04",
   "metadata": {},
   "outputs": [
    {
     "name": "stdout",
     "output_type": "stream",
     "text": [
      "Percentage of on time delivery based on close match: 0.13699475470533787 %\n"
     ]
    }
   ],
   "source": [
    "print('Percentage of on time delivery based on close match:',df[df['almost_on_time']==1].shape[0]/df.shape[0], '%')"
   ]
  },
  {
   "cell_type": "markdown",
   "id": "bdf56ca5",
   "metadata": {},
   "source": [
    "__Observation__\n",
    "\n",
    "* 379 out of 495 shipments that reach their destination, did so on time\n",
    "* Only 11.7% reached their destination on time\n",
    "* However, if we compare postcodes without the last character, assuming the item is close enough to its final destination \n",
    "the number & percentage are higher i.e. 444 and 13.7% \n",
    "\n",
    "__Assumptions__\n",
    "* Shipment coordinates with no matching postcodes are shipments that didn't reach their destinations \n",
    "* However, these carriers might have had to park at coordinates that are not close enough to a matching postcode\n",
    "* Also shipment postcodes that don't match the exact destination postcodes might have reached their destination by foot or other means due to parking"
   ]
  },
  {
   "cell_type": "code",
   "execution_count": 71,
   "id": "051aa7c0",
   "metadata": {},
   "outputs": [
    {
     "data": {
      "text/plain": [
       "0                                        PE29 2XJ\n",
       "1    No postcode found for the given coordinates.\n",
       "2    No postcode found for the given coordinates.\n",
       "3    No postcode found for the given coordinates.\n",
       "4    No postcode found for the given coordinates.\n",
       "Name: POSTCODE, dtype: object"
      ]
     },
     "execution_count": 71,
     "metadata": {},
     "output_type": "execute_result"
    }
   ],
   "source": [
    "df['POSTCODE'].head()"
   ]
  },
  {
   "cell_type": "code",
   "execution_count": 72,
   "id": "71306f80",
   "metadata": {},
   "outputs": [
    {
     "data": {
      "text/html": [
       "<div>\n",
       "<style scoped>\n",
       "    .dataframe tbody tr th:only-of-type {\n",
       "        vertical-align: middle;\n",
       "    }\n",
       "\n",
       "    .dataframe tbody tr th {\n",
       "        vertical-align: top;\n",
       "    }\n",
       "\n",
       "    .dataframe thead th {\n",
       "        text-align: right;\n",
       "    }\n",
       "</style>\n",
       "<table border=\"1\" class=\"dataframe\">\n",
       "  <thead>\n",
       "    <tr style=\"text-align: right;\">\n",
       "      <th></th>\n",
       "      <th>PROJECT_ID</th>\n",
       "      <th>SHIPMENT_NUMBER</th>\n",
       "      <th>CARRIER_DISPLAY_ID</th>\n",
       "      <th>VEHICLE_SIZE</th>\n",
       "      <th>VEHICLE_BUILD_UP</th>\n",
       "      <th>FIRST_COLLECTION_POST_CODE</th>\n",
       "      <th>LAST_DELIVERY_POST_CODE</th>\n",
       "      <th>FIRST_COLLECTION_LATITUDE</th>\n",
       "      <th>FIRST_COLLECTION_LONGITUDE</th>\n",
       "      <th>LAST_DELIVERY_LATITUDE</th>\n",
       "      <th>...</th>\n",
       "      <th>LAT</th>\n",
       "      <th>LON</th>\n",
       "      <th>RECORD_TIMESTAMP</th>\n",
       "      <th>GPS_coord</th>\n",
       "      <th>last_delivery_coord</th>\n",
       "      <th>POSTCODE</th>\n",
       "      <th>reached_delivery_loc</th>\n",
       "      <th>almost_reached_delivery_loc</th>\n",
       "      <th>on_time</th>\n",
       "      <th>almost_on_time</th>\n",
       "    </tr>\n",
       "  </thead>\n",
       "  <tbody>\n",
       "    <tr>\n",
       "      <th>0</th>\n",
       "      <td>5456fcfa-5b0c-428e-b322-240d508b6660</td>\n",
       "      <td>SEZHUK-231005-250448</td>\n",
       "      <td>CAUK000096</td>\n",
       "      <td>Tractor Unit</td>\n",
       "      <td>Curtain-Side 13.6M Trailer</td>\n",
       "      <td>PE29 2XR</td>\n",
       "      <td>EH48 2FB</td>\n",
       "      <td>52.315672</td>\n",
       "      <td>-0.157664</td>\n",
       "      <td>55.877803</td>\n",
       "      <td>...</td>\n",
       "      <td>52.316544</td>\n",
       "      <td>-0.157263</td>\n",
       "      <td>2023-10-06 10:24:00+01:00</td>\n",
       "      <td>[52.31654422, -0.15726316]</td>\n",
       "      <td>[55.877803, -3.648558]</td>\n",
       "      <td>PE29 2XJ</td>\n",
       "      <td>0</td>\n",
       "      <td>0</td>\n",
       "      <td>0</td>\n",
       "      <td>0</td>\n",
       "    </tr>\n",
       "    <tr>\n",
       "      <th>1</th>\n",
       "      <td>eb7a9df0-4875-43d8-9060-c79c35eae2fb</td>\n",
       "      <td>SEZHUK-231217-275004</td>\n",
       "      <td>CAUK000660</td>\n",
       "      <td>Tractor Unit</td>\n",
       "      <td>Box 44ft</td>\n",
       "      <td>BD5 8LZ</td>\n",
       "      <td>RG19 4BQ</td>\n",
       "      <td>53.764125</td>\n",
       "      <td>-1.740145</td>\n",
       "      <td>51.398851</td>\n",
       "      <td>...</td>\n",
       "      <td>53.745423</td>\n",
       "      <td>-1.702855</td>\n",
       "      <td>2023-12-20 04:08:00+00:00</td>\n",
       "      <td>[53.7454231574671, -1.70285456004236]</td>\n",
       "      <td>[51.398851, -1.231993]</td>\n",
       "      <td>No postcode found for the given coordinates.</td>\n",
       "      <td>0</td>\n",
       "      <td>0</td>\n",
       "      <td>0</td>\n",
       "      <td>0</td>\n",
       "    </tr>\n",
       "    <tr>\n",
       "      <th>2</th>\n",
       "      <td>eb7a9df0-4875-43d8-9060-c79c35eae2fb</td>\n",
       "      <td>SEZHUK-231210-272018</td>\n",
       "      <td>CAUK000435</td>\n",
       "      <td>Tractor Unit</td>\n",
       "      <td>Box 44ft</td>\n",
       "      <td>BD5 8LZ</td>\n",
       "      <td>EN3 7QP</td>\n",
       "      <td>53.767302</td>\n",
       "      <td>-1.746560</td>\n",
       "      <td>51.660700</td>\n",
       "      <td>...</td>\n",
       "      <td>51.659889</td>\n",
       "      <td>-0.024926</td>\n",
       "      <td>2023-12-14 10:18:00+00:00</td>\n",
       "      <td>[51.659889300233104, -0.024926167738865]</td>\n",
       "      <td>[51.6607, -0.022247]</td>\n",
       "      <td>No postcode found for the given coordinates.</td>\n",
       "      <td>0</td>\n",
       "      <td>0</td>\n",
       "      <td>0</td>\n",
       "      <td>0</td>\n",
       "    </tr>\n",
       "    <tr>\n",
       "      <th>3</th>\n",
       "      <td>40415fe3-e446-4d1e-b141-3698b0dc47f3</td>\n",
       "      <td>SEZHUK-231211-272127</td>\n",
       "      <td>CAUK000096</td>\n",
       "      <td>Tractor Unit</td>\n",
       "      <td>Curtain-Side 13.6M Trailer</td>\n",
       "      <td>HP22 5BL</td>\n",
       "      <td>NG31 7UH</td>\n",
       "      <td>51.779657</td>\n",
       "      <td>-0.772897</td>\n",
       "      <td>52.888113</td>\n",
       "      <td>...</td>\n",
       "      <td>52.889862</td>\n",
       "      <td>-0.634389</td>\n",
       "      <td>2023-12-13 17:22:00+00:00</td>\n",
       "      <td>[52.8898615976303, -0.63438873938486]</td>\n",
       "      <td>[52.888113, -0.634948]</td>\n",
       "      <td>No postcode found for the given coordinates.</td>\n",
       "      <td>0</td>\n",
       "      <td>0</td>\n",
       "      <td>0</td>\n",
       "      <td>0</td>\n",
       "    </tr>\n",
       "    <tr>\n",
       "      <th>4</th>\n",
       "      <td>39a4e234-5d35-4d94-8e8a-b8bf6fe13953</td>\n",
       "      <td>SEZHUK-231025-256168</td>\n",
       "      <td>CAUK000155</td>\n",
       "      <td>Tractor Unit</td>\n",
       "      <td>Curtain Side</td>\n",
       "      <td>CV23 8BQ</td>\n",
       "      <td>G75 0ZZ</td>\n",
       "      <td>52.334853</td>\n",
       "      <td>-1.180450</td>\n",
       "      <td>55.735089</td>\n",
       "      <td>...</td>\n",
       "      <td>55.845446</td>\n",
       "      <td>-3.880531</td>\n",
       "      <td>2023-11-08 03:53:00+00:00</td>\n",
       "      <td>[55.8454462753676, -3.88053080781484]</td>\n",
       "      <td>[55.735089, -4.168719]</td>\n",
       "      <td>No postcode found for the given coordinates.</td>\n",
       "      <td>0</td>\n",
       "      <td>0</td>\n",
       "      <td>0</td>\n",
       "      <td>0</td>\n",
       "    </tr>\n",
       "  </tbody>\n",
       "</table>\n",
       "<p>5 rows × 25 columns</p>\n",
       "</div>"
      ],
      "text/plain": [
       "                             PROJECT_ID       SHIPMENT_NUMBER  \\\n",
       "0  5456fcfa-5b0c-428e-b322-240d508b6660  SEZHUK-231005-250448   \n",
       "1  eb7a9df0-4875-43d8-9060-c79c35eae2fb  SEZHUK-231217-275004   \n",
       "2  eb7a9df0-4875-43d8-9060-c79c35eae2fb  SEZHUK-231210-272018   \n",
       "3  40415fe3-e446-4d1e-b141-3698b0dc47f3  SEZHUK-231211-272127   \n",
       "4  39a4e234-5d35-4d94-8e8a-b8bf6fe13953  SEZHUK-231025-256168   \n",
       "\n",
       "  CARRIER_DISPLAY_ID  VEHICLE_SIZE            VEHICLE_BUILD_UP  \\\n",
       "0         CAUK000096  Tractor Unit  Curtain-Side 13.6M Trailer   \n",
       "1         CAUK000660  Tractor Unit                    Box 44ft   \n",
       "2         CAUK000435  Tractor Unit                    Box 44ft   \n",
       "3         CAUK000096  Tractor Unit  Curtain-Side 13.6M Trailer   \n",
       "4         CAUK000155  Tractor Unit                Curtain Side   \n",
       "\n",
       "  FIRST_COLLECTION_POST_CODE LAST_DELIVERY_POST_CODE  \\\n",
       "0                   PE29 2XR                EH48 2FB   \n",
       "1                    BD5 8LZ                RG19 4BQ   \n",
       "2                    BD5 8LZ                 EN3 7QP   \n",
       "3                   HP22 5BL                NG31 7UH   \n",
       "4                   CV23 8BQ                 G75 0ZZ   \n",
       "\n",
       "   FIRST_COLLECTION_LATITUDE  FIRST_COLLECTION_LONGITUDE  \\\n",
       "0                  52.315672                   -0.157664   \n",
       "1                  53.764125                   -1.740145   \n",
       "2                  53.767302                   -1.746560   \n",
       "3                  51.779657                   -0.772897   \n",
       "4                  52.334853                   -1.180450   \n",
       "\n",
       "   LAST_DELIVERY_LATITUDE  ...        LAT       LON  \\\n",
       "0               55.877803  ...  52.316544 -0.157263   \n",
       "1               51.398851  ...  53.745423 -1.702855   \n",
       "2               51.660700  ...  51.659889 -0.024926   \n",
       "3               52.888113  ...  52.889862 -0.634389   \n",
       "4               55.735089  ...  55.845446 -3.880531   \n",
       "\n",
       "            RECORD_TIMESTAMP                                 GPS_coord  \\\n",
       "0  2023-10-06 10:24:00+01:00                [52.31654422, -0.15726316]   \n",
       "1  2023-12-20 04:08:00+00:00     [53.7454231574671, -1.70285456004236]   \n",
       "2  2023-12-14 10:18:00+00:00  [51.659889300233104, -0.024926167738865]   \n",
       "3  2023-12-13 17:22:00+00:00     [52.8898615976303, -0.63438873938486]   \n",
       "4  2023-11-08 03:53:00+00:00     [55.8454462753676, -3.88053080781484]   \n",
       "\n",
       "      last_delivery_coord                                      POSTCODE  \\\n",
       "0  [55.877803, -3.648558]                                      PE29 2XJ   \n",
       "1  [51.398851, -1.231993]  No postcode found for the given coordinates.   \n",
       "2    [51.6607, -0.022247]  No postcode found for the given coordinates.   \n",
       "3  [52.888113, -0.634948]  No postcode found for the given coordinates.   \n",
       "4  [55.735089, -4.168719]  No postcode found for the given coordinates.   \n",
       "\n",
       "   reached_delivery_loc almost_reached_delivery_loc on_time almost_on_time  \n",
       "0                     0                           0       0              0  \n",
       "1                     0                           0       0              0  \n",
       "2                     0                           0       0              0  \n",
       "3                     0                           0       0              0  \n",
       "4                     0                           0       0              0  \n",
       "\n",
       "[5 rows x 25 columns]"
      ]
     },
     "execution_count": 72,
     "metadata": {},
     "output_type": "execute_result"
    }
   ],
   "source": [
    "df.head()"
   ]
  },
  {
   "cell_type": "code",
   "execution_count": 73,
   "id": "31196864",
   "metadata": {},
   "outputs": [
    {
     "data": {
      "text/plain": [
       "3241"
      ]
     },
     "execution_count": 73,
     "metadata": {},
     "output_type": "execute_result"
    }
   ],
   "source": [
    "df.shape[0]"
   ]
  },
  {
   "cell_type": "code",
   "execution_count": 74,
   "id": "84cd941d",
   "metadata": {},
   "outputs": [
    {
     "data": {
      "image/png": "[encoded data removed]",
      "text/plain": [
       "<Figure size 700x500 with 1 Axes>"
      ]
     },
     "metadata": {},
     "output_type": "display_data"
    }
   ],
   "source": [
    "helper.plot_class_distribution('almost_on_time', df, 'Performance Class', [0, 1], ['Delayed', 'On Time'])"
   ]
  },
  {
   "cell_type": "markdown",
   "id": "68e77549",
   "metadata": {},
   "source": [
    "# 5. Save Dataset"
   ]
  },
  {
   "cell_type": "code",
   "execution_count": 75,
   "id": "0642c9a3",
   "metadata": {},
   "outputs": [],
   "source": [
    "df.to_csv('Data/bookings_processed.csv', index=False)"
   ]
  }
 ],
 "metadata": {
  "kernelspec": {
   "display_name": "Python 3 (ipykernel)",
   "language": "python",
   "name": "python3"
  },
  "language_info": {
   "codemirror_mode": {
    "name": "ipython",
    "version": 3
   },
   "file_extension": ".py",
   "mimetype": "text/x-python",
   "name": "python",
   "nbconvert_exporter": "python",
   "pygments_lexer": "ipython3",
   "version": "3.11.5"
  }
 },
 "nbformat": 4,
 "nbformat_minor": 5
}
